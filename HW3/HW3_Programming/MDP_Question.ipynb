{
 "cells": [
  {
   "attachments": {},
   "cell_type": "markdown",
   "metadata": {},
   "source": [
    "# Markov Decision Process"
   ]
  },
  {
   "attachments": {},
   "cell_type": "markdown",
   "metadata": {},
   "source": [
    "## Section 1: Introduction\n",
    "\n",
    "In this section, we will introduce the concepts of MDP, Q-values, and V-values. These concepts are fundamental to the field of AI and machine learning, as they are used to model **decision-making problems** in various domains such as \"robotics\", \"finance\", and \"healthcare\".\n",
    "\n",
    "MDP stands for Markov Decision Process. It is a mathematical framework for modeling decision-making problems in which the outcomes are partly random and partly under the control of a decision-maker. MDPs are defined by a set of states, a set of actions, a reward function, and a transition function. The goal is to find a policy that maximizes the expected cumulative reward over time.\n",
    "\n",
    "Q-values and V-values are two important concepts in the context of MDPs. A Q-value represents the expected cumulative reward of taking a particular action in a particular state and following a specific policy thereafter. A V-value represents the expected cumulative reward of being in a particular state and following a specific policy thereafter. These values are used to evaluate and improve the policy of an agent in an MDP."
   ]
  },
  {
   "attachments": {},
   "cell_type": "markdown",
   "metadata": {},
   "source": [
    "## Section 2: The Basics of MDPs\n",
    "\n",
    "In this section, we will explain the basic components of an MDP.\n",
    "\n",
    "An MDP is defined by \"a set of states\", \"a set of actions\", \"a reward function\", and \"a transition function\". The state space is the set of all possible states that the agent can be in. The action space is the set of all possible actions that the agent can take. The reward function defines the reward the agent receives for each action taken in a particular state. The transition function defines the probability of moving from one state to another state after taking a particular action.\n",
    "\n",
    "To illustrate these concepts, let's consider an example of a **robot that needs to navigate through a maze**. The robot can be in one of several states, such as at the start of the maze, at a junction in the maze, or at the end of the maze. This robot takes an action. With Probability of **0.8** It goes in that desired direction but with probability of **0.2** It goes in the perpendicular direction (0.1, 0.1 for each)!\n",
    "\n",
    "In an MDP, the agent interacts with the environment by selecting actions based on its current state and the expected future reward. The goal of the agent is to find a policy that maximizes the expected cumulative reward over time."
   ]
  },
  {
   "attachments": {},
   "cell_type": "markdown",
   "metadata": {},
   "source": [
    "**QUESTION**\n",
    "\n",
    "1. What are the state space, action space, reward function, and transition function of the robot in the maze example? Explain why you think each of these components is important for the robot to navigate through the maze.\n",
    "\n",
    "2. Is our environment stochastic or deterministic? Why?!"
   ]
  },
  {
   "attachments": {},
   "cell_type": "markdown",
   "metadata": {},
   "source": [
    "**Define The MDP**:\n",
    "\n",
    "Based on your choice of rewards and transitions and the state space, define the MDP for the robot in the maze example. You can complete the following code to define the MDP:"
   ]
  },
  {
   "cell_type": "code",
   "execution_count": 30,
   "metadata": {},
   "outputs": [
    {
     "name": "stdout",
     "output_type": "stream",
     "text": [
      "Our Maze is: \n",
      " [[2 0 0 0 0]\n",
      " [0 1 1 0 1]\n",
      " [0 0 0 0 0]\n",
      " [0 1 1 1 3]]\n"
     ]
    }
   ],
   "source": [
    "import numpy as np\n",
    "\n",
    "# Definition of the maze\n",
    "maze = np.array([[2, 0, 0, 0, 0],\n",
    "                 [0, 1, 1, 0, 1],\n",
    "                 [0, 0, 0, 0, 0],\n",
    "                 [0, 1, 1, 1, 3]])\n",
    "\n",
    "print(\"Our Maze is: \\n\", maze)\n",
    "\n",
    "# Define the states and actions\n",
    "states = np.arange(np.prod(maze.shape))\n",
    "actions = ['UP', 'DOWN', 'LEFT', 'RIGHT'] \n",
    "\n",
    "# Define the reward function\n",
    "rewards = np.zeros(maze.shape)   \n",
    "rewards[maze == 1] = -10  # assign negative rewards for hitting walls\n",
    "rewards[maze == 3] = 10 # assign positive rewards for reaching the goal\n",
    "rewards[maze == 0] = -1 # assign negative rewards for each step\n",
    "\n",
    "\n",
    "# Set the discount factor\n",
    "discount = 0.9\n",
    "\n",
    "# Define the initial value function\n",
    "values = np.zeros(maze.shape)\n",
    "values[maze == 3] = 100  \n",
    "values[maze == 2] = -10\n",
    "# values[maze == 2] = -2"
   ]
  },
  {
   "attachments": {},
   "cell_type": "markdown",
   "metadata": {},
   "source": [
    "## Section 3: Computing V-values\n",
    "\n",
    "In this section, we will explain how to compute V-values for an MDP using the Bellman equation.\n",
    "\n",
    "The Bellman equation is a recursive equation that expresses the value of a state in terms of the values of its successor states. It is defined as:\n",
    "\n",
    "$$V(s) = R(s) + \\gamma * \\max_a (\\sum_{s'} P(s, a, s') * V(s'))$$\n",
    "\n",
    "where V(s) is the value of state s, R(s) is the reward for being in state s, γ is the discount factor that determines the importance of future rewards, P(s, a, s') is the probability of moving from state s to state s' after taking action a, and max_a is the maximum over all possible actions a.\n",
    "\n",
    "To compute the V-values for an MDP, we start with an initial estimate of the V-values and update them iteratively using the Bellman equation until they converge to the true values. The update rule is:\n",
    "\n",
    "$$V(s) \\leftarrow R(s) + \\gamma * \\max_a (\\sum_{s'} P(s, a, s') * V(s'))$$\n",
    "\n",
    "We can use dynamic programming algorithms such as value iteration or policy iteration to compute the V-values.\n",
    "\n",
    "We can use the Bellman equation to compute the V-values for each state in the maze. The V-values represent the expected cumulative reward that the robot can obtain if it starts from that state and follows an optimal policy thereafter. Complete the code below:\n",
    "\n",
    "(**Note:** your final result can be slightly different from the result printed below and it's okay!)"
   ]
  },
  {
   "cell_type": "code",
   "execution_count": 31,
   "metadata": {},
   "outputs": [
    {
     "name": "stdout",
     "output_type": "stream",
     "text": [
      "[[-10.          16.40583497  24.62761654  35.01675448  -3.86813187]\n",
      " [ 16.30333962   0.           0.          47.4289986    0.        ]\n",
      " [ 24.50320696  31.34865814  47.4289986   69.76262157  93.60287974]\n",
      " [ 16.30333962   0.           0.           0.         100.        ]]\n"
     ]
    }
   ],
   "source": [
    "# TODO: Compute the V-values using Bellman equations\n",
    "...\n",
    "\n",
    "\n",
    "def get_next_value(state, action,discount):\n",
    "    \"\"\"\n",
    "    Returns the next state and reward given the current state and action.\n",
    "    Assumes deterministic actions.\n",
    "    \"\"\"\n",
    "    next_state = state\n",
    "    n = maze.shape[0]\n",
    "    m = maze.shape[1]\n",
    "    row, col = state\n",
    "    rev = rewards[maze == 1][0]\n",
    "    if action == 'UP' :\n",
    "        perp1 = rev\n",
    "        perp1_val = values[state]\n",
    "        perp2 = rev\n",
    "        perp2_val = values[state]\n",
    "        right_dir = rev \n",
    "        right_val = values[state]\n",
    "        if col > 0 and col < m- 1 :\n",
    "            perp1 = rewards[row,col - 1]\n",
    "            perp2 = rewards[row,col + 1]\n",
    "            perp1_val = values[row,col-1]\n",
    "            perp2_val = values[row,col+1]\n",
    "        elif col == m - 1 :\n",
    "            perp1 = rewards[row,col - 1]\n",
    "            perp1_val = values[row,col -1]\n",
    "        elif col == 0 :\n",
    "            perp2 = rewards[row,col + 1]\n",
    "            perp2_val = values[row,col +1]\n",
    "        if row > 0 :\n",
    "            right_dir = rewards[row-1,col]\n",
    "            right_val = values[row - 1,col] \n",
    "        reward = 0.8 * (right_dir + discount * right_val) + 0.1 * (perp1 + discount * perp1_val) + 0.1 * (perp2 + discount * perp2_val)\n",
    "    elif action == 'DOWN' :\n",
    "        perp1 = rev\n",
    "        perp1_val = values[state]\n",
    "        perp2 = rev\n",
    "        perp2_val = values[state]\n",
    "        right_dir = rev \n",
    "        right_val = values[state]\n",
    "        if col > 0 and col < m - 1 :\n",
    "            perp1 = rewards[row,col - 1]\n",
    "            perp2 = rewards[row,col + 1]\n",
    "            perp1_val = values[row,col-1]\n",
    "            perp2_val = values[row,col+1]\n",
    "        elif col == m - 1 :\n",
    "            perp1 = rewards[row,col - 1]\n",
    "            perp1_val = values[row,col -1]\n",
    "        elif col == 0 :\n",
    "            perp2 = rewards[row,col + 1]\n",
    "            perp2_val = values[row,col +1]\n",
    "        if row < n -1 :\n",
    "            right_dir = rewards[row+1,col] \n",
    "            right_val = values[row+1,col]\n",
    "        reward = 0.8 * (right_dir + discount * right_val) + 0.1 * (perp1 + discount * perp1_val) + 0.1 * (perp2 + discount * perp2_val)\n",
    "    elif action == 'LEFT' : \n",
    "        perp1 = rev\n",
    "        perp1_val = values[state]\n",
    "        perp2 = rev\n",
    "        perp2_val = values[state]\n",
    "        right_dir = rev \n",
    "        right_val = values[state]\n",
    "        if row > 0 and row < n - 1 :\n",
    "            perp1 = rewards[row - 1, col]\n",
    "            perp2 = rewards[row + 1, col]\n",
    "            perp1_val = values[row - 1,col]\n",
    "            perp2_val = values[row + 1,col]\n",
    "        elif row == n - 1 :\n",
    "            perp1 = rewards[row - 1, col]\n",
    "            perp1_val = values[row - 1,col]\n",
    "        elif row == 0 :\n",
    "            perp2 = rewards[row + 1, col]\n",
    "            perp2_val = values[row + 1,col]\n",
    "        if col > 0 :\n",
    "            right_dir = rewards[row, col - 1]\n",
    "            right_val = rewards[row, col - 1] \n",
    "        reward = 0.8 * (right_dir + discount * right_val) + 0.1 * (perp1 + discount * perp1_val) + 0.1 * (perp2 + discount * perp2_val)\n",
    "    elif action == 'RIGHT' : \n",
    "        perp1 = rev\n",
    "        perp1_val = values[state]\n",
    "        perp2 = rev\n",
    "        perp2_val = values[state]\n",
    "        right_dir = rev \n",
    "        right_val = values[state] \n",
    "        if row > 0 and row < n - 1 :\n",
    "            perp1 = rewards[row - 1, col]\n",
    "            perp2 = rewards[row + 1, col]\n",
    "            perp1_val = values[row - 1,col]\n",
    "            perp2_val = values[row + 1,col]\n",
    "        elif row == n - 1 :\n",
    "            perp1 = rewards[row - 1, col]\n",
    "            perp1_val = values[row - 1,col]\n",
    "        elif row == 0 :\n",
    "            perp2 = rewards[row + 1, col]\n",
    "            perp2_val = values[row + 1,col]\n",
    "        if col < m - 1  :\n",
    "            right_dir = rewards[row, col + 1] \n",
    "            right_val = values[row, col+1]\n",
    "        reward = 0.8 * (right_dir + discount * right_val) + 0.1 * (perp1 + discount * perp1_val) + 0.1 * (perp2 + discount * perp2_val)\n",
    "    return reward    \n",
    "\n",
    "n = maze.shape[0]\n",
    "m = maze.shape[1]\n",
    "num_of_itters = 15\n",
    "epsilon = 0.001\n",
    "for itter in range(num_of_itters):\n",
    "    delta = 0\n",
    "    old_value = np.copy(values)\n",
    "    for row in range(n):\n",
    "        for col in range(m):\n",
    "            state = (row,col)\n",
    "            new_value = 0\n",
    "            v = []\n",
    "            if maze[row,col] == 1 :\n",
    "                old_value[row,col] = 0\n",
    "                continue\n",
    "            elif maze[row,col] == 3 :\n",
    "                continue\n",
    "            elif maze[row,col] == 2:\n",
    "                continue\n",
    "            for action in actions:\n",
    "                value = get_next_value(state, action,discount)\n",
    "                # print(value)\n",
    "                v.append(value)\n",
    "            old_value[row,col] = max(v)\n",
    "    values = np.copy(old_value)\n",
    "print(values)\n",
    "\n"
   ]
  },
  {
   "attachments": {},
   "cell_type": "markdown",
   "metadata": {},
   "source": [
    "## Section 4: Computing Q-values\n",
    "\n",
    "In this section, we will explain how to compute Q-values for an MDP using the Bellman equation.\n",
    "\n",
    "The Q-values represent the expected cumulative reward that the robot can obtain if it starts from a particular state and takes a particular action, and then follows an optimal policy thereafter. The Q-values can be computed using the Bellman equation as follows:\n",
    "\n",
    "$$Q(s, a) = R(s, a) + \\gamma * \\sum_{s'} (P(s, a, s') * \\max_{a'} (Q(s', a')))$$\n",
    "\n",
    "where Q(s, a) is the Q-value of state-action pair (s, a), R(s, a) is the reward for taking action a in state s, γ is the discount factor that determines the importance of future rewards, P(s, a, s') is the probability of moving from state s to state s' after taking action a, max_a' is the maximum over all possible actions a' in state s', and sum_s' is the sum over all possible successor states s' of state s.\n",
    "\n",
    "To compute the Q-values for an MDP, we start with an initial estimate of the Q-values and update them iteratively using the Bellman equation until they converge to the true values. The update rule is:\n",
    "\n",
    "$$Q(s, a) \\leftarrow R(s, a) + \\gamma * \\sum_{s'} (P(s, a, s') * \\max_{a'} (Q(s', a')))$$\n",
    "\n",
    "We can use dynamic programming algorithms such as Q-learning or SARSA to compute the Q-values.\n",
    "\n",
    "\n",
    "We can use the Q-learning algorithm to compute the Q-values for each state-action pair in the maze. The Q-values represent the expected cumulative reward that the robot can obtain if it starts from a particular state and takes a particular action, and then follows an optimal policy thereafter. Complete the code below:\n",
    "\n",
    "(**Note:** your final result can be slightly different from the result printed below and it's okay!)"
   ]
  },
  {
   "cell_type": "code",
   "execution_count": 32,
   "metadata": {},
   "outputs": [
    {
     "name": "stdout",
     "output_type": "stream",
     "text": [
      "[[[  0.           0.           0.           0.        ]\n",
      "  [  5.02868667  -6.78351451  -0.52347485  16.40840906]\n",
      "  [ 14.15991696  -3.57196695  -1.30351451  24.62854871]\n",
      "  [ 18.88041685  35.01723262   4.80011778   2.73506283]\n",
      "  [ -9.08167891  -6.29662397  -3.86813187 -13.13318681]]\n",
      "\n",
      " [[ -7.73269943  16.30960958   4.94369316  -6.79471137]\n",
      "  [  0.           0.           0.           0.        ]\n",
      "  [  0.           0.           0.           0.        ]\n",
      "  [ 22.41206322  47.42908753  -5.96985616   1.23014384]\n",
      "  [  0.           0.           0.           0.        ]]\n",
      "\n",
      " [[ 14.86507239  14.86507239  12.37691014  24.505635  ]\n",
      "  [ -1.7261015   -1.7261015   -3.52        31.34887899]\n",
      "  [  0.90001517   0.90001517  -3.52        47.42908753]\n",
      "  [ 45.84174805   4.49286905   1.64860987  69.76268329]\n",
      "  [  5.60289512  93.60289512   7.48        68.39407341]]\n",
      "\n",
      " [[ 16.30960958   3.2057051    6.31099372  -5.42741081]\n",
      "  [  0.           0.           0.           0.        ]\n",
      "  [  0.           0.           0.           0.        ]\n",
      "  [  0.           0.           0.           0.        ]\n",
      "  [  0.           0.           0.           0.        ]]]\n"
     ]
    }
   ],
   "source": [
    "#TODO: Compute Q-Values using Bellman equations\n",
    "...\n",
    "q_values = np.zeros((*maze.shape, len(actions)))\n",
    "for itter in range(num_of_itters):\n",
    "    delta = 0\n",
    "    old_q_values = np.copy(q_values)\n",
    "    for row in range(n):\n",
    "        for col in range(m):\n",
    "            state = (row, col)\n",
    "            if maze[row, col] == 1:\n",
    "                old_q_values[row, col, :] = 0\n",
    "                continue\n",
    "            elif maze[row, col] in (2, 3):\n",
    "                continue\n",
    "            for action_idx, action in enumerate(actions):\n",
    "                value = get_next_value(state, action, discount)\n",
    "                old_q_values[row, col, action_idx] = value\n",
    "                delta = max(delta, abs(q_values[row, col, action_idx] - value))\n",
    "    q_values = np.copy(old_q_values)\n",
    "print(q_values)\n"
   ]
  },
  {
   "attachments": {},
   "cell_type": "markdown",
   "metadata": {},
   "source": [
    "## Section 5: Visualizing the Optimal Policy\n",
    "\n",
    "Now that we have computed the Q-values, we can use them to find the optimal policy, which is the sequence of actions that the robot should take in each state to maximize its expected reward. We can visualize the optimal policy as arrows in a grid, where each arrow corresponds to the action with the highest Q-value in the corresponding state. Complete the code below:\n",
    "\n",
    "(**Note:** your final result can be slightly different from the result printed below and it's okay!)"
   ]
  },
  {
   "cell_type": "code",
   "execution_count": 33,
   "metadata": {},
   "outputs": [
    {
     "name": "stdout",
     "output_type": "stream",
     "text": [
      "['UP', 'DOWN', 'LEFT', 'RIGHT']\n",
      "[[0 3 3 1 2]\n",
      " [1 0 0 1 0]\n",
      " [3 3 3 3 1]\n",
      " [0 0 0 0 0]]\n"
     ]
    }
   ],
   "source": [
    "import matplotlib.pyplot as plt\n",
    "\n",
    "# Compute the optimal policy\n",
    "\n",
    "policy = np.argmax(q_values, axis=-1)\n",
    "\n",
    "print(actions)\n",
    "print(policy)"
   ]
  },
  {
   "cell_type": "code",
   "execution_count": 65,
   "metadata": {},
   "outputs": [
    {
     "name": "stdout",
     "output_type": "stream",
     "text": [
      "[['↑' '→' '→' '↓' '←']\n",
      " ['↓' '↑' '↑' '↓' '↑']\n",
      " ['→' '→' '→' '→' '↓']\n",
      " ['↑' '↑' '↑' '↑' '↑']]\n"
     ]
    },
    {
     "data": {
      "image/png": "[encoded data removed]",
      "text/plain": [
       "<Figure size 200x200 with 1 Axes>"
      ]
     },
     "metadata": {},
     "output_type": "display_data"
    },
    {
     "data": {
      "image/png": "[encoded data removed]",
      "text/plain": [
       "<Figure size 200x200 with 1 Axes>"
      ]
     },
     "metadata": {},
     "output_type": "display_data"
    }
   ],
   "source": [
    "#TODO: Visualize optimal policy as arrows\n",
    "# Replace numbers with arrow characters\n",
    "arrow_arr = np.full_like(policy, '', dtype=np.dtype('<U2'))\n",
    "arrow_arr[policy == 0] = '↑'\n",
    "arrow_arr[policy == 1] = '↓'\n",
    "arrow_arr[policy == 2] = '←'\n",
    "arrow_arr[policy == 3] = '→'\n",
    "print(arrow_arr)\n",
    "\n",
    "\n",
    "fig, ax = plt.subplots(figsize=(2,2))\n",
    "ax.axis('off')\n",
    "ax.invert_yaxis()\n",
    "for (i, j), arrow in np.ndenumerate(arrow_arr):\n",
    "    ax.text(j, i, arrow, ha='center', va='center', fontsize=20)\n",
    "\n",
    "plt.show()\n",
    "\n",
    "#TODO: Show the maze. show start state (S) in red, goal state(G) in green, obstacles(X) in white, and Path (P) in white\n",
    "\n",
    "maze_in_chars = np.full_like(maze, '', dtype=np.dtype('<U2'))\n",
    "maze_in_chars[maze == 0] = 'P'\n",
    "maze_in_chars[maze == 1] = 'X'\n",
    "maze_in_chars[maze == 2] = 'S'\n",
    "maze_in_chars[maze == 3] = 'G'\n",
    "\n",
    "fig, ax = plt.subplots(figsize=(2, 2),facecolor='black')\n",
    "ax.axis('off')\n",
    "ax.invert_yaxis()\n",
    "\n",
    "for (i, j), arrow in np.ndenumerate(maze_in_chars):\n",
    "    text_obj = ax.text(j, i, arrow, ha='center', va='center', fontsize=20)\n",
    "    if arrow == 'S':\n",
    "        text_obj.set_color('red')\n",
    "    elif arrow == 'X' or arrow == 'P':\n",
    "        text_obj.set_color('white')\n",
    "    elif arrow == 'G':\n",
    "        text_obj.set_color('green')\n",
    "\n",
    "plt.show()\n",
    "\n"
   ]
  },
  {
   "cell_type": "code",
   "execution_count": null,
   "metadata": {},
   "outputs": [],
   "source": []
  }
 ],
 "metadata": {
  "kernelspec": {
   "display_name": "venv",
   "language": "python",
   "name": "python3"
  },
  "language_info": {
   "codemirror_mode": {
    "name": "ipython",
    "version": 3
   },
   "file_extension": ".py",
   "mimetype": "text/x-python",
   "name": "python",
   "nbconvert_exporter": "python",
   "pygments_lexer": "ipython3",
   "version": "3.10.6"
  },
  "orig_nbformat": 4
 },
 "nbformat": 4,
 "nbformat_minor": 2
}
