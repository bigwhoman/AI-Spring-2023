{
  "cells": [
    {
      "cell_type": "markdown",
      "metadata": {
        "id": "gWvfwACWlprm"
      },
      "source": [
        "# Multi-Layer Perceptron (MLP), MNIST\n",
        "---\n",
        "<font color='cyan'> Responsible TA: AmirHossein Razlighi </font>\n",
        "\n",
        "In this notebook, we will train an MLP to classify images from the [MNIST database](http://yann.lecun.com/exdb/mnist/) hand-written digit database.\n",
        "\n",
        "This is a well-known and famous problem in the machine learning community! We try to train our network to recognize handwritten digits from 0 to 9. We use the famous MNIST dataset for this purpose. The dataset contains 60,000 training images and 10,000 testing images. Each image is a 28x28 grayscale image. We will use the MLP to classify the images.\n",
        "\n",
        "Let's proceed with the excersise!"
      ]
    },
    {
      "cell_type": "code",
      "execution_count": 1,
      "metadata": {
        "id": "reSGBazUlprp",
        "outputId": "6d1da4bf-dfd7-488e-bdd1-e30048dbcf3e",
        "colab": {
          "base_uri": "https://localhost:8080/"
        }
      },
      "outputs": [
        {
          "output_type": "stream",
          "name": "stdout",
          "text": [
            "Error: Command '['/content/venv/bin/python3', '-m', 'ensurepip', '--upgrade', '--default-pip']' returned non-zero exit status 1.\n",
            "/bin/bash: ./venv/bin/activate: No such file or directory\n"
          ]
        }
      ],
      "source": [
        "# Run this code if you are trying to run the notebook locally\n",
        "!python3 -m venv ./venv\n",
        "!source ./venv/bin/activate"
      ]
    },
    {
      "cell_type": "code",
      "execution_count": 2,
      "metadata": {
        "colab": {
          "base_uri": "https://localhost:8080/"
        },
        "id": "LH4fR1G3lprr",
        "outputId": "93590e67-c405-463b-df86-0efd3860fbd6"
      },
      "outputs": [
        {
          "output_type": "stream",
          "name": "stdout",
          "text": [
            "Looking in indexes: https://pypi.org/simple, https://us-python.pkg.dev/colab-wheels/public/simple/\n",
            "Requirement already satisfied: torch in /usr/local/lib/python3.10/dist-packages (2.0.1+cu118)\n",
            "Requirement already satisfied: numpy in /usr/local/lib/python3.10/dist-packages (1.22.4)\n",
            "Requirement already satisfied: matplotlib in /usr/local/lib/python3.10/dist-packages (3.7.1)\n",
            "Requirement already satisfied: filelock in /usr/local/lib/python3.10/dist-packages (from torch) (3.12.0)\n",
            "Requirement already satisfied: typing-extensions in /usr/local/lib/python3.10/dist-packages (from torch) (4.5.0)\n",
            "Requirement already satisfied: sympy in /usr/local/lib/python3.10/dist-packages (from torch) (1.11.1)\n",
            "Requirement already satisfied: networkx in /usr/local/lib/python3.10/dist-packages (from torch) (3.1)\n",
            "Requirement already satisfied: jinja2 in /usr/local/lib/python3.10/dist-packages (from torch) (3.1.2)\n",
            "Requirement already satisfied: triton==2.0.0 in /usr/local/lib/python3.10/dist-packages (from torch) (2.0.0)\n",
            "Requirement already satisfied: cmake in /usr/local/lib/python3.10/dist-packages (from triton==2.0.0->torch) (3.25.2)\n",
            "Requirement already satisfied: lit in /usr/local/lib/python3.10/dist-packages (from triton==2.0.0->torch) (16.0.5)\n",
            "Requirement already satisfied: contourpy>=1.0.1 in /usr/local/lib/python3.10/dist-packages (from matplotlib) (1.0.7)\n",
            "Requirement already satisfied: cycler>=0.10 in /usr/local/lib/python3.10/dist-packages (from matplotlib) (0.11.0)\n",
            "Requirement already satisfied: fonttools>=4.22.0 in /usr/local/lib/python3.10/dist-packages (from matplotlib) (4.39.3)\n",
            "Requirement already satisfied: kiwisolver>=1.0.1 in /usr/local/lib/python3.10/dist-packages (from matplotlib) (1.4.4)\n",
            "Requirement already satisfied: packaging>=20.0 in /usr/local/lib/python3.10/dist-packages (from matplotlib) (23.1)\n",
            "Requirement already satisfied: pillow>=6.2.0 in /usr/local/lib/python3.10/dist-packages (from matplotlib) (8.4.0)\n",
            "Requirement already satisfied: pyparsing>=2.3.1 in /usr/local/lib/python3.10/dist-packages (from matplotlib) (3.0.9)\n",
            "Requirement already satisfied: python-dateutil>=2.7 in /usr/local/lib/python3.10/dist-packages (from matplotlib) (2.8.2)\n",
            "Requirement already satisfied: six>=1.5 in /usr/local/lib/python3.10/dist-packages (from python-dateutil>=2.7->matplotlib) (1.16.0)\n",
            "Requirement already satisfied: MarkupSafe>=2.0 in /usr/local/lib/python3.10/dist-packages (from jinja2->torch) (2.1.2)\n",
            "Requirement already satisfied: mpmath>=0.19 in /usr/local/lib/python3.10/dist-packages (from sympy->torch) (1.3.0)\n"
          ]
        }
      ],
      "source": [
        "%pip install torch numpy matplotlib"
      ]
    },
    {
      "cell_type": "code",
      "execution_count": 3,
      "metadata": {
        "id": "mX2OfLFklprr"
      },
      "outputs": [],
      "source": [
        "import torch\n",
        "import numpy as np\n",
        "from torchvision import datasets\n",
        "import torchvision.transforms as transforms\n",
        "from torch.utils.data import DataLoader\n",
        "import matplotlib.pyplot as plt\n",
        "import numpy as np\n",
        "from torchvision.utils import make_grid"
      ]
    },
    {
      "cell_type": "markdown",
      "metadata": {
        "id": "vEsnp2k1lprr"
      },
      "source": [
        "---\n",
        "## Load and Visualize the [Data](http://pytorch.org/docs/stable/torchvision/datasets.html)\n",
        "\n",
        "In this cell we first, download the dataset (using torch datasets) and then, create the test_set and train_sets to use in the rest of our notebook.\n",
        "You can also change the `batch_size` in this cell to your desired amount."
      ]
    },
    {
      "cell_type": "code",
      "execution_count": 4,
      "metadata": {
        "colab": {
          "base_uri": "https://localhost:8080/"
        },
        "id": "ctpfczJklprs",
        "outputId": "25f0f60b-6aa7-4f12-c44a-ac87db69076b"
      },
      "outputs": [
        {
          "output_type": "stream",
          "name": "stdout",
          "text": [
            "Downloading http://yann.lecun.com/exdb/mnist/train-images-idx3-ubyte.gz\n",
            "Downloading http://yann.lecun.com/exdb/mnist/train-images-idx3-ubyte.gz to data/MNIST/raw/train-images-idx3-ubyte.gz\n"
          ]
        },
        {
          "output_type": "stream",
          "name": "stderr",
          "text": [
            "100%|██████████| 9912422/9912422 [00:00<00:00, 106727808.94it/s]"
          ]
        },
        {
          "output_type": "stream",
          "name": "stdout",
          "text": [
            "Extracting data/MNIST/raw/train-images-idx3-ubyte.gz to data/MNIST/raw\n"
          ]
        },
        {
          "output_type": "stream",
          "name": "stderr",
          "text": [
            "\n"
          ]
        },
        {
          "output_type": "stream",
          "name": "stdout",
          "text": [
            "\n",
            "Downloading http://yann.lecun.com/exdb/mnist/train-labels-idx1-ubyte.gz\n",
            "Downloading http://yann.lecun.com/exdb/mnist/train-labels-idx1-ubyte.gz to data/MNIST/raw/train-labels-idx1-ubyte.gz\n"
          ]
        },
        {
          "output_type": "stream",
          "name": "stderr",
          "text": [
            "100%|██████████| 28881/28881 [00:00<00:00, 8779221.18it/s]\n"
          ]
        },
        {
          "output_type": "stream",
          "name": "stdout",
          "text": [
            "Extracting data/MNIST/raw/train-labels-idx1-ubyte.gz to data/MNIST/raw\n",
            "\n",
            "Downloading http://yann.lecun.com/exdb/mnist/t10k-images-idx3-ubyte.gz\n",
            "Downloading http://yann.lecun.com/exdb/mnist/t10k-images-idx3-ubyte.gz to data/MNIST/raw/t10k-images-idx3-ubyte.gz\n"
          ]
        },
        {
          "output_type": "stream",
          "name": "stderr",
          "text": [
            "100%|██████████| 1648877/1648877 [00:00<00:00, 30896170.07it/s]\n"
          ]
        },
        {
          "output_type": "stream",
          "name": "stdout",
          "text": [
            "Extracting data/MNIST/raw/t10k-images-idx3-ubyte.gz to data/MNIST/raw\n",
            "\n",
            "Downloading http://yann.lecun.com/exdb/mnist/t10k-labels-idx1-ubyte.gz\n",
            "Downloading http://yann.lecun.com/exdb/mnist/t10k-labels-idx1-ubyte.gz to data/MNIST/raw/t10k-labels-idx1-ubyte.gz\n"
          ]
        },
        {
          "output_type": "stream",
          "name": "stderr",
          "text": [
            "100%|██████████| 4542/4542 [00:00<00:00, 13559095.21it/s]"
          ]
        },
        {
          "output_type": "stream",
          "name": "stdout",
          "text": [
            "Extracting data/MNIST/raw/t10k-labels-idx1-ubyte.gz to data/MNIST/raw\n",
            "\n"
          ]
        },
        {
          "output_type": "stream",
          "name": "stderr",
          "text": [
            "\n"
          ]
        }
      ],
      "source": [
        "from torchvision import datasets\n",
        "import torchvision.transforms as transforms\n",
        "from torch.utils.data import DataLoader\n",
        "\n",
        "# number of subprocesses to use for data loading\n",
        "num_workers = 0\n",
        "# how many samples per batch to load\n",
        "batch_size = 20\n",
        "\n",
        "# convert data to torch.FloatTensor\n",
        "transform = transforms.ToTensor()\n",
        "\n",
        "# choose the training and test datasets\n",
        "train_data = datasets.MNIST(root='data', train=True,\n",
        "                                   download=True, transform=transform)\n",
        "test_data = datasets.MNIST(root='data', train=False,\n",
        "                                  download=True, transform=transform)\n",
        "\n",
        "# prepare data loaders\n",
        "train_loader = DataLoader(train_data, batch_size=batch_size, num_workers=num_workers, shuffle=True)\n",
        "test_loader = DataLoader(test_data, batch_size=batch_size, num_workers=num_workers, shuffle=True)"
      ]
    },
    {
      "cell_type": "markdown",
      "metadata": {
        "id": "GarwGXdblprs"
      },
      "source": [
        "## See some of the training images\n",
        "\n",
        "First thing to do in any machine learning task is to look at your data! load a batch of images from the training set and display them in a grid using the `imshow` function from `matplotlib.pyplot`. You can also use `torchvision.utils.make_grid` to create a grid from a list of images (batch)."
      ]
    },
    {
      "cell_type": "code",
      "execution_count": 39,
      "metadata": {
        "colab": {
          "base_uri": "https://localhost:8080/",
          "height": 167
        },
        "id": "tWPS4f89lprs",
        "outputId": "0c8c0851-6ef3-4056-ecb6-d91c4c834957"
      },
      "outputs": [
        {
          "output_type": "display_data",
          "data": {
            "text/plain": [
              "<Figure size 640x480 with 1 Axes>"
            ],
            "image/png": "[encoded data removed]"
          },
          "metadata": {}
        }
      ],
      "source": [
        "import matplotlib.pyplot as plt\n",
        "%matplotlib inline\n",
        "\n",
        "#TODO\n",
        "\n",
        "# obtain one batch of training images\n",
        "\n",
        "\n",
        "#create a grid and show a batch of images in training data\n",
        "\n",
        "dataiter = iter(train_loader)\n",
        "images, labels = next(dataiter)\n",
        "\n",
        "grid = make_grid(images, nrow=10)\n",
        "np_grid = grid.numpy()\n",
        "plt.imshow(np.transpose(np_grid, (1, 2, 0)))\n",
        "plt.show()\n"
      ]
    },
    {
      "cell_type": "markdown",
      "metadata": {
        "id": "fZIg7U0Hlprt"
      },
      "source": [
        "## View an Image in More Detail\n",
        "\n",
        "Here, we look at one sample in a batch to see the pixel values (intensities). Note that our images are grayscale (even if the dataset were in RGB, the color data was irrelevant!) because for detecting the handwritten digits, the color of the ink of pen is not important (obviously)!"
      ]
    },
    {
      "cell_type": "code",
      "execution_count": 73,
      "metadata": {
        "colab": {
          "base_uri": "https://localhost:8080/",
          "height": 1000
        },
        "id": "BDmZYvf7lprt",
        "outputId": "8d8ac807-7392-4611-b218-b268766c85d9"
      },
      "outputs": [
        {
          "output_type": "display_data",
          "data": {
            "text/plain": [
              "<PIL.Image.Image image mode=L size=1120x1120 at 0x7F5511615480>"
            ],
            "image/png": "[encoded data removed]"
          },
          "metadata": {}
        }
      ],
      "source": [
        "import cv2\n",
        "import numpy as np\n",
        "from google.colab.patches import cv2_imshow\n",
        "\n",
        "single_image, single_label = train_data[0]\n",
        "\n",
        "# Convert the PyTorch tensor to a NumPy array\n",
        "image_np = single_image.numpy()\n",
        "\n",
        "# Convert the image to uint8\n",
        "image_np = (image_np * 255).astype(np.uint8)\n",
        "\n",
        "# Transpose the image dimensions from (C, H, W) to (H, W, C)\n",
        "image_np = np.transpose(image_np, (1, 2, 0))\n",
        "\n",
        "# Use the original image_np as the grayscale image\n",
        "image = image_np[:,:,0]\n",
        "si = 40\n",
        "# Resize the image to make it larger\n",
        "scaled_image = cv2.resize(image, None, fx=si, fy=si, interpolation=cv2.INTER_NEAREST)\n",
        "\n",
        "# Get the image dimensions (height and width)\n",
        "height, width = image.shape\n",
        "\n",
        "# Iterate through each pixel and put the intensity value in the middle of the pixel\n",
        "font = cv2.FONT_HERSHEY_SIMPLEX\n",
        "font_scale = 0.4\n",
        "font_thickness = 1\n",
        "\n",
        "for y in range(height):\n",
        "    for x in range(width):\n",
        "        intensity = image[y, x]\n",
        "        # Position of the text on the scaled image\n",
        "        position = (x * si + 1, y * si + (20))\n",
        "        cv2.putText(scaled_image, str(round(float(intensity/255),2)), position, font, font_scale, (100, 100, 120), font_thickness, cv2.LINE_AA)\n",
        "# Display the image\n",
        "cv2_imshow(scaled_image)\n",
        "cv2.waitKey(0)\n",
        "cv2.destroyAllWindows()"
      ]
    },
    {
      "cell_type": "markdown",
      "metadata": {
        "id": "Q2dtU0lMlprt"
      },
      "source": [
        "---\n",
        "## Define the Network [Architecture](http://pytorch.org/docs/stable/nn.html)\n",
        "\n",
        "In this cell, you should define the network architecture. Note the dimensions of the input (print it out!) and the outputs. Your output should be a tensor of length 10 (digits 0 to 9) that indicates scores (probabilities) for an input image belonging to that class [$P(C_i|x)$]. Use `Drop out` layers to avoid overfitting!"
      ]
    },
    {
      "cell_type": "code",
      "execution_count": 74,
      "metadata": {
        "id": "M-hPiFWclpru",
        "outputId": "57a65268-876d-49c7-ee14-f4b4f5cc4ef1",
        "colab": {
          "base_uri": "https://localhost:8080/"
        }
      },
      "outputs": [
        {
          "output_type": "stream",
          "name": "stdout",
          "text": [
            "Net(\n",
            "  (fc1): Linear(in_features=784, out_features=512, bias=True)\n",
            "  (fc2): Linear(in_features=512, out_features=512, bias=True)\n",
            "  (fc3): Linear(in_features=512, out_features=10, bias=True)\n",
            "  (dropout): Dropout(p=0.2, inplace=False)\n",
            ")\n"
          ]
        }
      ],
      "source": [
        "import torch.nn as nn\n",
        "import torch.nn.functional as F\n",
        "\n",
        "## Define the NN architecture\n",
        "class Net(nn.Module):\n",
        "    def __init__(self):\n",
        "        super(Net, self).__init__()\n",
        "        self.fc1 = nn.Linear(28 * 28, 512)\n",
        "        self.fc2 = nn.Linear(512, 512)\n",
        "        self.fc3 = nn.Linear(512, 10)\n",
        "        self.dropout = nn.Dropout(p=0.2)\n",
        "\n",
        "    def forward(self, x):\n",
        "        x = x.view(-1, 28 * 28)  # Flatten the input\n",
        "        x = F.relu(self.fc1(x))\n",
        "        x = self.dropout(x)\n",
        "        x = F.relu(self.fc2(x))\n",
        "        x = self.dropout(x)\n",
        "        x = self.fc3(x)\n",
        "        return x\n",
        "\n",
        "# Initialize the NN\n",
        "model = Net()\n",
        "print(model)"
      ]
    },
    {
      "cell_type": "markdown",
      "metadata": {
        "id": "sYP9xmZrlpru"
      },
      "source": [
        "##  Specify [Loss Function](http://pytorch.org/docs/stable/nn.html#loss-functions) and [Optimizer](http://pytorch.org/docs/stable/optim.html)\n",
        "\n",
        "Here you should define the loss function used in training process and the optimizer. We recommend you use `cross-entropy` loss. But you can explore other loss functions if you think they work better in this case! Also, you can use `SGD` or `Adam` optimizer, or any other optimizers that you think would work better!"
      ]
    },
    {
      "cell_type": "code",
      "execution_count": 75,
      "metadata": {
        "id": "Estx1Qbtlpru"
      },
      "outputs": [],
      "source": [
        "import torch.optim as optim\n",
        "\n",
        "# Specify loss function\n",
        "criterion = nn.CrossEntropyLoss()\n",
        "\n",
        "# Specify optimizer\n",
        "optimizer = optim.Adam(model.parameters(), lr=0.001)"
      ]
    },
    {
      "cell_type": "markdown",
      "metadata": {
        "id": "n9jO6N_9lpru"
      },
      "source": [
        "---\n",
        "## Train the Network\n",
        "\n",
        "The steps for training/learning from a batch of data are described in the comments below:\n",
        "1. Clear the gradients of all optimized variables\n",
        "2. Forward pass: compute predicted outputs by passing inputs to the model\n",
        "3. Calculate the loss\n",
        "4. Backward pass: compute gradient of the loss with respect to model parameters\n",
        "5. Perform a single optimization step (parameter update)\n",
        "6. Update average training loss\n",
        "\n",
        "Complete the code below:"
      ]
    },
    {
      "cell_type": "code",
      "execution_count": 76,
      "metadata": {
        "id": "i5HZjP9Glprv",
        "outputId": "2c095dd3-f4fb-4156-bc4f-d15553d5247f",
        "colab": {
          "base_uri": "https://localhost:8080/"
        }
      },
      "outputs": [
        {
          "output_type": "stream",
          "name": "stdout",
          "text": [
            "Epoch: 1 \tTraining Loss: 0.222546\n",
            "Epoch: 2 \tTraining Loss: 0.110548\n",
            "Epoch: 3 \tTraining Loss: 0.087391\n",
            "Epoch: 4 \tTraining Loss: 0.074790\n",
            "Epoch: 5 \tTraining Loss: 0.066605\n",
            "Epoch: 6 \tTraining Loss: 0.057742\n",
            "Epoch: 7 \tTraining Loss: 0.054411\n",
            "Epoch: 8 \tTraining Loss: 0.050585\n",
            "Epoch: 9 \tTraining Loss: 0.048299\n",
            "Epoch: 10 \tTraining Loss: 0.045850\n",
            "Epoch: 11 \tTraining Loss: 0.042587\n",
            "Epoch: 12 \tTraining Loss: 0.041659\n",
            "Epoch: 13 \tTraining Loss: 0.041781\n",
            "Epoch: 14 \tTraining Loss: 0.043249\n",
            "Epoch: 15 \tTraining Loss: 0.038400\n",
            "Epoch: 16 \tTraining Loss: 0.039803\n",
            "Epoch: 17 \tTraining Loss: 0.037509\n",
            "Epoch: 18 \tTraining Loss: 0.035761\n",
            "Epoch: 19 \tTraining Loss: 0.037940\n",
            "Epoch: 20 \tTraining Loss: 0.035286\n",
            "Epoch: 21 \tTraining Loss: 0.034322\n",
            "Epoch: 22 \tTraining Loss: 0.038155\n",
            "Epoch: 23 \tTraining Loss: 0.034678\n",
            "Epoch: 24 \tTraining Loss: 0.032360\n",
            "Epoch: 25 \tTraining Loss: 0.036139\n",
            "Epoch: 26 \tTraining Loss: 0.035455\n",
            "Epoch: 27 \tTraining Loss: 0.037317\n",
            "Epoch: 28 \tTraining Loss: 0.032395\n",
            "Epoch: 29 \tTraining Loss: 0.033231\n",
            "Epoch: 30 \tTraining Loss: 0.034646\n"
          ]
        }
      ],
      "source": [
        "# Number of epochs to train the model\n",
        "n_epochs = 30\n",
        "\n",
        "for epoch in range(n_epochs):\n",
        "    # Monitor training loss\n",
        "    train_loss = 0.0\n",
        "\n",
        "    # Training loop\n",
        "    for data, target in train_loader:\n",
        "\n",
        "        # Clear the gradients of all optimized variables\n",
        "        optimizer.zero_grad()\n",
        "        # Forward pass: compute predicted outputs by passing inputs to the model\n",
        "        output = model(data)\n",
        "        # Calculate the loss\n",
        "        loss = criterion(output, target)\n",
        "        # Backward pass: compute gradient of the loss with respect to model parameters\n",
        "        loss.backward()\n",
        "        # Perform a single optimization step (parameter update)\n",
        "        optimizer.step()\n",
        "        # Update average training loss\n",
        "        train_loss += loss.item() * data.size(0)\n",
        "\n",
        "    # Calculate average loss\n",
        "    train_loss = train_loss / len(train_loader.dataset)\n",
        "\n",
        "    print(f'Epoch: {epoch + 1} \\tTraining Loss: {train_loss:.6f}')"
      ]
    },
    {
      "cell_type": "markdown",
      "metadata": {
        "id": "t1465HY6lprv"
      },
      "source": [
        "---\n",
        "## Test the Trained Network\n",
        "\n",
        "And at last, you should test the model on test_set (previously unseen data). We will use test_set to evaluate the model's performance. Don't forget to prepare the model for evaluation(testing) using `model.eval()` in Pytorch!\n",
        "\n",
        "You should report the Test Accuracy of your model."
      ]
    },
    {
      "cell_type": "code",
      "execution_count": 77,
      "metadata": {
        "id": "aIpLhYk5lprv",
        "outputId": "63cd5410-9a2e-4f67-c4ef-e3dce123a62b",
        "colab": {
          "base_uri": "https://localhost:8080/"
        }
      },
      "outputs": [
        {
          "output_type": "stream",
          "name": "stdout",
          "text": [
            "Test Accuracy of \t0: 100.00% (20/20)\n",
            "Test Accuracy of \t1: 100.00% (20/20)\n",
            "Test Accuracy of \t2: 100.00% (20/20)\n",
            "Test Accuracy of \t3: 95.00% (19/20)\n",
            "Test Accuracy of \t4: 95.00% (19/20)\n",
            "Test Accuracy of \t5: 100.00% (20/20)\n",
            "Test Accuracy of \t6: 100.00% (20/20)\n",
            "Test Accuracy of \t7: 100.00% (20/20)\n",
            "Test Accuracy of \t8: 100.00% (20/20)\n",
            "Test Accuracy of \t9: 95.00% (19/20)\n",
            "Test Accuracy of \t10: 100.00% (20/20)\n",
            "Test Accuracy of \t11: 95.00% (19/20)\n",
            "Test Accuracy of \t12: 95.00% (19/20)\n",
            "Test Accuracy of \t13: 95.00% (19/20)\n",
            "Test Accuracy of \t14: 100.00% (20/20)\n",
            "Test Accuracy of \t15: 100.00% (20/20)\n",
            "Test Accuracy of \t16: 100.00% (20/20)\n",
            "Test Accuracy of \t17: 100.00% (20/20)\n",
            "Test Accuracy of \t18: 100.00% (20/20)\n",
            "Test Accuracy of \t19: 95.00% (19/20)\n",
            "Test Accuracy of \t20: 100.00% (20/20)\n",
            "Test Accuracy of \t21: 100.00% (20/20)\n",
            "Test Accuracy of \t22: 100.00% (20/20)\n",
            "Test Accuracy of \t23: 100.00% (20/20)\n",
            "Test Accuracy of \t24: 100.00% (20/20)\n",
            "Test Accuracy of \t25: 100.00% (20/20)\n",
            "Test Accuracy of \t26: 95.00% (19/20)\n",
            "Test Accuracy of \t27: 100.00% (20/20)\n",
            "Test Accuracy of \t28: 100.00% (20/20)\n",
            "Test Accuracy of \t29: 95.00% (19/20)\n",
            "Test Accuracy of \t30: 100.00% (20/20)\n",
            "Test Accuracy of \t31: 100.00% (20/20)\n",
            "Test Accuracy of \t32: 100.00% (20/20)\n",
            "Test Accuracy of \t33: 100.00% (20/20)\n",
            "Test Accuracy of \t34: 100.00% (20/20)\n",
            "Test Accuracy of \t35: 100.00% (20/20)\n",
            "Test Accuracy of \t36: 100.00% (20/20)\n",
            "Test Accuracy of \t37: 100.00% (20/20)\n",
            "Test Accuracy of \t38: 100.00% (20/20)\n",
            "Test Accuracy of \t39: 100.00% (20/20)\n",
            "Test Accuracy of \t40: 100.00% (20/20)\n",
            "Test Accuracy of \t41: 95.00% (19/20)\n",
            "Test Accuracy of \t42: 95.00% (19/20)\n",
            "Test Accuracy of \t43: 90.00% (18/20)\n",
            "Test Accuracy of \t44: 100.00% (20/20)\n",
            "Test Accuracy of \t45: 100.00% (20/20)\n",
            "Test Accuracy of \t46: 100.00% (20/20)\n",
            "Test Accuracy of \t47: 100.00% (20/20)\n",
            "Test Accuracy of \t48: 100.00% (20/20)\n",
            "Test Accuracy of \t49: 100.00% (20/20)\n",
            "Test Accuracy of \t50: 95.00% (19/20)\n",
            "Test Accuracy of \t51: 95.00% (19/20)\n",
            "Test Accuracy of \t52: 100.00% (20/20)\n",
            "Test Accuracy of \t53: 100.00% (20/20)\n",
            "Test Accuracy of \t54: 95.00% (19/20)\n",
            "Test Accuracy of \t55: 100.00% (20/20)\n",
            "Test Accuracy of \t56: 100.00% (20/20)\n",
            "Test Accuracy of \t57: 100.00% (20/20)\n",
            "Test Accuracy of \t58: 100.00% (20/20)\n",
            "Test Accuracy of \t59: 95.00% (19/20)\n",
            "Test Accuracy of \t60: 100.00% (20/20)\n",
            "Test Accuracy of \t61: 100.00% (20/20)\n",
            "Test Accuracy of \t62: 95.00% (19/20)\n",
            "Test Accuracy of \t63: 100.00% (20/20)\n",
            "Test Accuracy of \t64: 95.00% (19/20)\n",
            "Test Accuracy of \t65: 100.00% (20/20)\n",
            "Test Accuracy of \t66: 100.00% (20/20)\n",
            "Test Accuracy of \t67: 100.00% (20/20)\n",
            "Test Accuracy of \t68: 100.00% (20/20)\n",
            "Test Accuracy of \t69: 100.00% (20/20)\n",
            "Test Accuracy of \t70: 100.00% (20/20)\n",
            "Test Accuracy of \t71: 100.00% (20/20)\n",
            "Test Accuracy of \t72: 100.00% (20/20)\n",
            "Test Accuracy of \t73: 100.00% (20/20)\n",
            "Test Accuracy of \t74: 100.00% (20/20)\n",
            "Test Accuracy of \t75: 95.00% (19/20)\n",
            "Test Accuracy of \t76: 100.00% (20/20)\n",
            "Test Accuracy of \t77: 100.00% (20/20)\n",
            "Test Accuracy of \t78: 100.00% (20/20)\n",
            "Test Accuracy of \t79: 100.00% (20/20)\n",
            "Test Accuracy of \t80: 95.00% (19/20)\n",
            "Test Accuracy of \t81: 95.00% (19/20)\n",
            "Test Accuracy of \t82: 90.00% (18/20)\n",
            "Test Accuracy of \t83: 100.00% (20/20)\n",
            "Test Accuracy of \t84: 100.00% (20/20)\n",
            "Test Accuracy of \t85: 100.00% (20/20)\n",
            "Test Accuracy of \t86: 95.00% (19/20)\n",
            "Test Accuracy of \t87: 100.00% (20/20)\n",
            "Test Accuracy of \t88: 95.00% (19/20)\n",
            "Test Accuracy of \t89: 100.00% (20/20)\n",
            "Test Accuracy of \t90: 100.00% (20/20)\n",
            "Test Accuracy of \t91: 95.00% (19/20)\n",
            "Test Accuracy of \t92: 100.00% (20/20)\n",
            "Test Accuracy of \t93: 100.00% (20/20)\n",
            "Test Accuracy of \t94: 100.00% (20/20)\n",
            "Test Accuracy of \t95: 100.00% (20/20)\n",
            "Test Accuracy of \t96: 100.00% (20/20)\n",
            "Test Accuracy of \t97: 95.00% (19/20)\n",
            "Test Accuracy of \t98: 100.00% (20/20)\n",
            "Test Accuracy of \t99: 95.00% (19/20)\n",
            "Test Accuracy of \t100: 100.00% (20/20)\n",
            "Test Accuracy of \t101: 100.00% (20/20)\n",
            "Test Accuracy of \t102: 100.00% (20/20)\n",
            "Test Accuracy of \t103: 100.00% (20/20)\n",
            "Test Accuracy of \t104: 100.00% (20/20)\n",
            "Test Accuracy of \t105: 100.00% (20/20)\n",
            "Test Accuracy of \t106: 95.00% (19/20)\n",
            "Test Accuracy of \t107: 100.00% (20/20)\n",
            "Test Accuracy of \t108: 90.00% (18/20)\n",
            "Test Accuracy of \t109: 100.00% (20/20)\n",
            "Test Accuracy of \t110: 100.00% (20/20)\n",
            "Test Accuracy of \t111: 100.00% (20/20)\n",
            "Test Accuracy of \t112: 95.00% (19/20)\n",
            "Test Accuracy of \t113: 95.00% (19/20)\n",
            "Test Accuracy of \t114: 100.00% (20/20)\n",
            "Test Accuracy of \t115: 100.00% (20/20)\n",
            "Test Accuracy of \t116: 100.00% (20/20)\n",
            "Test Accuracy of \t117: 100.00% (20/20)\n",
            "Test Accuracy of \t118: 100.00% (20/20)\n",
            "Test Accuracy of \t119: 100.00% (20/20)\n",
            "Test Accuracy of \t120: 90.00% (18/20)\n",
            "Test Accuracy of \t121: 100.00% (20/20)\n",
            "Test Accuracy of \t122: 100.00% (20/20)\n",
            "Test Accuracy of \t123: 95.00% (19/20)\n",
            "Test Accuracy of \t124: 100.00% (20/20)\n",
            "Test Accuracy of \t125: 95.00% (19/20)\n",
            "Test Accuracy of \t126: 95.00% (19/20)\n",
            "Test Accuracy of \t127: 95.00% (19/20)\n",
            "Test Accuracy of \t128: 100.00% (20/20)\n",
            "Test Accuracy of \t129: 95.00% (19/20)\n",
            "Test Accuracy of \t130: 90.00% (18/20)\n",
            "Test Accuracy of \t131: 100.00% (20/20)\n",
            "Test Accuracy of \t132: 100.00% (20/20)\n",
            "Test Accuracy of \t133: 95.00% (19/20)\n",
            "Test Accuracy of \t134: 100.00% (20/20)\n",
            "Test Accuracy of \t135: 100.00% (20/20)\n",
            "Test Accuracy of \t136: 90.00% (18/20)\n",
            "Test Accuracy of \t137: 95.00% (19/20)\n",
            "Test Accuracy of \t138: 95.00% (19/20)\n",
            "Test Accuracy of \t139: 100.00% (20/20)\n",
            "Test Accuracy of \t140: 100.00% (20/20)\n",
            "Test Accuracy of \t141: 100.00% (20/20)\n",
            "Test Accuracy of \t142: 95.00% (19/20)\n",
            "Test Accuracy of \t143: 100.00% (20/20)\n",
            "Test Accuracy of \t144: 95.00% (19/20)\n",
            "Test Accuracy of \t145: 90.00% (18/20)\n",
            "Test Accuracy of \t146: 95.00% (19/20)\n",
            "Test Accuracy of \t147: 95.00% (19/20)\n",
            "Test Accuracy of \t148: 100.00% (20/20)\n",
            "Test Accuracy of \t149: 100.00% (20/20)\n",
            "Test Accuracy of \t150: 95.00% (19/20)\n",
            "Test Accuracy of \t151: 100.00% (20/20)\n",
            "Test Accuracy of \t152: 100.00% (20/20)\n",
            "Test Accuracy of \t153: 100.00% (20/20)\n",
            "Test Accuracy of \t154: 95.00% (19/20)\n",
            "Test Accuracy of \t155: 100.00% (20/20)\n",
            "Test Accuracy of \t156: 100.00% (20/20)\n",
            "Test Accuracy of \t157: 100.00% (20/20)\n",
            "Test Accuracy of \t158: 95.00% (19/20)\n",
            "Test Accuracy of \t159: 100.00% (20/20)\n",
            "Test Accuracy of \t160: 100.00% (20/20)\n",
            "Test Accuracy of \t161: 100.00% (20/20)\n",
            "Test Accuracy of \t162: 100.00% (20/20)\n",
            "Test Accuracy of \t163: 100.00% (20/20)\n",
            "Test Accuracy of \t164: 100.00% (20/20)\n",
            "Test Accuracy of \t165: 100.00% (20/20)\n",
            "Test Accuracy of \t166: 100.00% (20/20)\n",
            "Test Accuracy of \t167: 100.00% (20/20)\n",
            "Test Accuracy of \t168: 95.00% (19/20)\n",
            "Test Accuracy of \t169: 100.00% (20/20)\n",
            "Test Accuracy of \t170: 100.00% (20/20)\n",
            "Test Accuracy of \t171: 95.00% (19/20)\n",
            "Test Accuracy of \t172: 100.00% (20/20)\n",
            "Test Accuracy of \t173: 95.00% (19/20)\n",
            "Test Accuracy of \t174: 100.00% (20/20)\n",
            "Test Accuracy of \t175: 100.00% (20/20)\n",
            "Test Accuracy of \t176: 100.00% (20/20)\n",
            "Test Accuracy of \t177: 100.00% (20/20)\n",
            "Test Accuracy of \t178: 100.00% (20/20)\n",
            "Test Accuracy of \t179: 90.00% (18/20)\n",
            "Test Accuracy of \t180: 100.00% (20/20)\n",
            "Test Accuracy of \t181: 100.00% (20/20)\n",
            "Test Accuracy of \t182: 100.00% (20/20)\n",
            "Test Accuracy of \t183: 100.00% (20/20)\n",
            "Test Accuracy of \t184: 100.00% (20/20)\n",
            "Test Accuracy of \t185: 95.00% (19/20)\n",
            "Test Accuracy of \t186: 100.00% (20/20)\n",
            "Test Accuracy of \t187: 95.00% (19/20)\n",
            "Test Accuracy of \t188: 100.00% (20/20)\n",
            "Test Accuracy of \t189: 95.00% (19/20)\n",
            "Test Accuracy of \t190: 100.00% (20/20)\n",
            "Test Accuracy of \t191: 95.00% (19/20)\n",
            "Test Accuracy of \t192: 100.00% (20/20)\n",
            "Test Accuracy of \t193: 100.00% (20/20)\n",
            "Test Accuracy of \t194: 100.00% (20/20)\n",
            "Test Accuracy of \t195: 95.00% (19/20)\n",
            "Test Accuracy of \t196: 100.00% (20/20)\n",
            "Test Accuracy of \t197: 100.00% (20/20)\n",
            "Test Accuracy of \t198: 95.00% (19/20)\n",
            "Test Accuracy of \t199: 100.00% (20/20)\n",
            "Test Accuracy of \t200: 100.00% (20/20)\n",
            "Test Accuracy of \t201: 100.00% (20/20)\n",
            "Test Accuracy of \t202: 95.00% (19/20)\n",
            "Test Accuracy of \t203: 100.00% (20/20)\n",
            "Test Accuracy of \t204: 100.00% (20/20)\n",
            "Test Accuracy of \t205: 100.00% (20/20)\n",
            "Test Accuracy of \t206: 100.00% (20/20)\n",
            "Test Accuracy of \t207: 95.00% (19/20)\n",
            "Test Accuracy of \t208: 100.00% (20/20)\n",
            "Test Accuracy of \t209: 95.00% (19/20)\n",
            "Test Accuracy of \t210: 100.00% (20/20)\n",
            "Test Accuracy of \t211: 100.00% (20/20)\n",
            "Test Accuracy of \t212: 100.00% (20/20)\n",
            "Test Accuracy of \t213: 100.00% (20/20)\n",
            "Test Accuracy of \t214: 95.00% (19/20)\n",
            "Test Accuracy of \t215: 100.00% (20/20)\n",
            "Test Accuracy of \t216: 100.00% (20/20)\n",
            "Test Accuracy of \t217: 100.00% (20/20)\n",
            "Test Accuracy of \t218: 95.00% (19/20)\n",
            "Test Accuracy of \t219: 100.00% (20/20)\n",
            "Test Accuracy of \t220: 95.00% (19/20)\n",
            "Test Accuracy of \t221: 100.00% (20/20)\n",
            "Test Accuracy of \t222: 100.00% (20/20)\n",
            "Test Accuracy of \t223: 95.00% (19/20)\n",
            "Test Accuracy of \t224: 100.00% (20/20)\n",
            "Test Accuracy of \t225: 100.00% (20/20)\n",
            "Test Accuracy of \t226: 100.00% (20/20)\n",
            "Test Accuracy of \t227: 95.00% (19/20)\n",
            "Test Accuracy of \t228: 100.00% (20/20)\n",
            "Test Accuracy of \t229: 100.00% (20/20)\n",
            "Test Accuracy of \t230: 100.00% (20/20)\n",
            "Test Accuracy of \t231: 95.00% (19/20)\n",
            "Test Accuracy of \t232: 95.00% (19/20)\n",
            "Test Accuracy of \t233: 100.00% (20/20)\n",
            "Test Accuracy of \t234: 100.00% (20/20)\n",
            "Test Accuracy of \t235: 95.00% (19/20)\n",
            "Test Accuracy of \t236: 90.00% (18/20)\n",
            "Test Accuracy of \t237: 100.00% (20/20)\n",
            "Test Accuracy of \t238: 100.00% (20/20)\n",
            "Test Accuracy of \t239: 100.00% (20/20)\n",
            "Test Accuracy of \t240: 100.00% (20/20)\n",
            "Test Accuracy of \t241: 100.00% (20/20)\n",
            "Test Accuracy of \t242: 100.00% (20/20)\n",
            "Test Accuracy of \t243: 100.00% (20/20)\n",
            "Test Accuracy of \t244: 100.00% (20/20)\n",
            "Test Accuracy of \t245: 100.00% (20/20)\n",
            "Test Accuracy of \t246: 95.00% (19/20)\n",
            "Test Accuracy of \t247: 100.00% (20/20)\n",
            "Test Accuracy of \t248: 100.00% (20/20)\n",
            "Test Accuracy of \t249: 100.00% (20/20)\n",
            "Test Accuracy of \t250: 100.00% (20/20)\n",
            "Test Accuracy of \t251: 100.00% (20/20)\n",
            "Test Accuracy of \t252: 100.00% (20/20)\n",
            "Test Accuracy of \t253: 100.00% (20/20)\n",
            "Test Accuracy of \t254: 100.00% (20/20)\n",
            "Test Accuracy of \t255: 95.00% (19/20)\n",
            "Test Accuracy of \t256: 95.00% (19/20)\n",
            "Test Accuracy of \t257: 95.00% (19/20)\n",
            "Test Accuracy of \t258: 100.00% (20/20)\n",
            "Test Accuracy of \t259: 100.00% (20/20)\n",
            "Test Accuracy of \t260: 100.00% (20/20)\n",
            "Test Accuracy of \t261: 95.00% (19/20)\n",
            "Test Accuracy of \t262: 95.00% (19/20)\n",
            "Test Accuracy of \t263: 100.00% (20/20)\n",
            "Test Accuracy of \t264: 100.00% (20/20)\n",
            "Test Accuracy of \t265: 100.00% (20/20)\n",
            "Test Accuracy of \t266: 100.00% (20/20)\n",
            "Test Accuracy of \t267: 100.00% (20/20)\n",
            "Test Accuracy of \t268: 100.00% (20/20)\n",
            "Test Accuracy of \t269: 100.00% (20/20)\n",
            "Test Accuracy of \t270: 100.00% (20/20)\n",
            "Test Accuracy of \t271: 95.00% (19/20)\n",
            "Test Accuracy of \t272: 100.00% (20/20)\n",
            "Test Accuracy of \t273: 95.00% (19/20)\n",
            "Test Accuracy of \t274: 100.00% (20/20)\n",
            "Test Accuracy of \t275: 90.00% (18/20)\n",
            "Test Accuracy of \t276: 100.00% (20/20)\n",
            "Test Accuracy of \t277: 100.00% (20/20)\n",
            "Test Accuracy of \t278: 100.00% (20/20)\n",
            "Test Accuracy of \t279: 100.00% (20/20)\n",
            "Test Accuracy of \t280: 100.00% (20/20)\n",
            "Test Accuracy of \t281: 100.00% (20/20)\n",
            "Test Accuracy of \t282: 100.00% (20/20)\n",
            "Test Accuracy of \t283: 100.00% (20/20)\n",
            "Test Accuracy of \t284: 100.00% (20/20)\n",
            "Test Accuracy of \t285: 95.00% (19/20)\n",
            "Test Accuracy of \t286: 100.00% (20/20)\n",
            "Test Accuracy of \t287: 100.00% (20/20)\n",
            "Test Accuracy of \t288: 100.00% (20/20)\n",
            "Test Accuracy of \t289: 100.00% (20/20)\n",
            "Test Accuracy of \t290: 95.00% (19/20)\n",
            "Test Accuracy of \t291: 100.00% (20/20)\n",
            "Test Accuracy of \t292: 100.00% (20/20)\n",
            "Test Accuracy of \t293: 100.00% (20/20)\n",
            "Test Accuracy of \t294: 100.00% (20/20)\n",
            "Test Accuracy of \t295: 100.00% (20/20)\n",
            "Test Accuracy of \t296: 100.00% (20/20)\n",
            "Test Accuracy of \t297: 100.00% (20/20)\n",
            "Test Accuracy of \t298: 95.00% (19/20)\n",
            "Test Accuracy of \t299: 100.00% (20/20)\n",
            "Test Accuracy of \t300: 100.00% (20/20)\n",
            "Test Accuracy of \t301: 100.00% (20/20)\n",
            "Test Accuracy of \t302: 100.00% (20/20)\n",
            "Test Accuracy of \t303: 95.00% (19/20)\n",
            "Test Accuracy of \t304: 100.00% (20/20)\n",
            "Test Accuracy of \t305: 95.00% (19/20)\n",
            "Test Accuracy of \t306: 100.00% (20/20)\n",
            "Test Accuracy of \t307: 95.00% (19/20)\n",
            "Test Accuracy of \t308: 100.00% (20/20)\n",
            "Test Accuracy of \t309: 100.00% (20/20)\n",
            "Test Accuracy of \t310: 100.00% (20/20)\n",
            "Test Accuracy of \t311: 95.00% (19/20)\n",
            "Test Accuracy of \t312: 100.00% (20/20)\n",
            "Test Accuracy of \t313: 95.00% (19/20)\n",
            "Test Accuracy of \t314: 100.00% (20/20)\n",
            "Test Accuracy of \t315: 100.00% (20/20)\n",
            "Test Accuracy of \t316: 100.00% (20/20)\n",
            "Test Accuracy of \t317: 90.00% (18/20)\n",
            "Test Accuracy of \t318: 95.00% (19/20)\n",
            "Test Accuracy of \t319: 100.00% (20/20)\n",
            "Test Accuracy of \t320: 100.00% (20/20)\n",
            "Test Accuracy of \t321: 100.00% (20/20)\n",
            "Test Accuracy of \t322: 95.00% (19/20)\n",
            "Test Accuracy of \t323: 100.00% (20/20)\n",
            "Test Accuracy of \t324: 100.00% (20/20)\n",
            "Test Accuracy of \t325: 100.00% (20/20)\n",
            "Test Accuracy of \t326: 100.00% (20/20)\n",
            "Test Accuracy of \t327: 100.00% (20/20)\n",
            "Test Accuracy of \t328: 95.00% (19/20)\n",
            "Test Accuracy of \t329: 95.00% (19/20)\n",
            "Test Accuracy of \t330: 100.00% (20/20)\n",
            "Test Accuracy of \t331: 100.00% (20/20)\n",
            "Test Accuracy of \t332: 100.00% (20/20)\n",
            "Test Accuracy of \t333: 95.00% (19/20)\n",
            "Test Accuracy of \t334: 95.00% (19/20)\n",
            "Test Accuracy of \t335: 100.00% (20/20)\n",
            "Test Accuracy of \t336: 100.00% (20/20)\n",
            "Test Accuracy of \t337: 100.00% (20/20)\n",
            "Test Accuracy of \t338: 100.00% (20/20)\n",
            "Test Accuracy of \t339: 100.00% (20/20)\n",
            "Test Accuracy of \t340: 100.00% (20/20)\n",
            "Test Accuracy of \t341: 100.00% (20/20)\n",
            "Test Accuracy of \t342: 100.00% (20/20)\n",
            "Test Accuracy of \t343: 100.00% (20/20)\n",
            "Test Accuracy of \t344: 100.00% (20/20)\n",
            "Test Accuracy of \t345: 100.00% (20/20)\n",
            "Test Accuracy of \t346: 95.00% (19/20)\n",
            "Test Accuracy of \t347: 100.00% (20/20)\n",
            "Test Accuracy of \t348: 100.00% (20/20)\n",
            "Test Accuracy of \t349: 95.00% (19/20)\n",
            "Test Accuracy of \t350: 100.00% (20/20)\n",
            "Test Accuracy of \t351: 100.00% (20/20)\n",
            "Test Accuracy of \t352: 100.00% (20/20)\n",
            "Test Accuracy of \t353: 95.00% (19/20)\n",
            "Test Accuracy of \t354: 100.00% (20/20)\n",
            "Test Accuracy of \t355: 100.00% (20/20)\n",
            "Test Accuracy of \t356: 95.00% (19/20)\n",
            "Test Accuracy of \t357: 100.00% (20/20)\n",
            "Test Accuracy of \t358: 95.00% (19/20)\n",
            "Test Accuracy of \t359: 100.00% (20/20)\n",
            "Test Accuracy of \t360: 100.00% (20/20)\n",
            "Test Accuracy of \t361: 95.00% (19/20)\n",
            "Test Accuracy of \t362: 100.00% (20/20)\n",
            "Test Accuracy of \t363: 100.00% (20/20)\n",
            "Test Accuracy of \t364: 100.00% (20/20)\n",
            "Test Accuracy of \t365: 100.00% (20/20)\n",
            "Test Accuracy of \t366: 100.00% (20/20)\n",
            "Test Accuracy of \t367: 100.00% (20/20)\n",
            "Test Accuracy of \t368: 100.00% (20/20)\n",
            "Test Accuracy of \t369: 90.00% (18/20)\n",
            "Test Accuracy of \t370: 100.00% (20/20)\n",
            "Test Accuracy of \t371: 90.00% (18/20)\n",
            "Test Accuracy of \t372: 100.00% (20/20)\n",
            "Test Accuracy of \t373: 100.00% (20/20)\n",
            "Test Accuracy of \t374: 100.00% (20/20)\n",
            "Test Accuracy of \t375: 100.00% (20/20)\n",
            "Test Accuracy of \t376: 100.00% (20/20)\n",
            "Test Accuracy of \t377: 100.00% (20/20)\n",
            "Test Accuracy of \t378: 95.00% (19/20)\n",
            "Test Accuracy of \t379: 100.00% (20/20)\n",
            "Test Accuracy of \t380: 100.00% (20/20)\n",
            "Test Accuracy of \t381: 95.00% (19/20)\n",
            "Test Accuracy of \t382: 95.00% (19/20)\n",
            "Test Accuracy of \t383: 100.00% (20/20)\n",
            "Test Accuracy of \t384: 100.00% (20/20)\n",
            "Test Accuracy of \t385: 95.00% (19/20)\n",
            "Test Accuracy of \t386: 100.00% (20/20)\n",
            "Test Accuracy of \t387: 95.00% (19/20)\n",
            "Test Accuracy of \t388: 90.00% (18/20)\n",
            "Test Accuracy of \t389: 100.00% (20/20)\n",
            "Test Accuracy of \t390: 95.00% (19/20)\n",
            "Test Accuracy of \t391: 100.00% (20/20)\n",
            "Test Accuracy of \t392: 95.00% (19/20)\n",
            "Test Accuracy of \t393: 100.00% (20/20)\n",
            "Test Accuracy of \t394: 100.00% (20/20)\n",
            "Test Accuracy of \t395: 95.00% (19/20)\n",
            "Test Accuracy of \t396: 95.00% (19/20)\n",
            "Test Accuracy of \t397: 90.00% (18/20)\n",
            "Test Accuracy of \t398: 100.00% (20/20)\n",
            "Test Accuracy of \t399: 100.00% (20/20)\n",
            "Test Accuracy of \t400: 100.00% (20/20)\n",
            "Test Accuracy of \t401: 100.00% (20/20)\n",
            "Test Accuracy of \t402: 100.00% (20/20)\n",
            "Test Accuracy of \t403: 100.00% (20/20)\n",
            "Test Accuracy of \t404: 100.00% (20/20)\n",
            "Test Accuracy of \t405: 100.00% (20/20)\n",
            "Test Accuracy of \t406: 100.00% (20/20)\n",
            "Test Accuracy of \t407: 100.00% (20/20)\n",
            "Test Accuracy of \t408: 95.00% (19/20)\n",
            "Test Accuracy of \t409: 100.00% (20/20)\n",
            "Test Accuracy of \t410: 100.00% (20/20)\n",
            "Test Accuracy of \t411: 100.00% (20/20)\n",
            "Test Accuracy of \t412: 95.00% (19/20)\n",
            "Test Accuracy of \t413: 100.00% (20/20)\n",
            "Test Accuracy of \t414: 95.00% (19/20)\n",
            "Test Accuracy of \t415: 100.00% (20/20)\n",
            "Test Accuracy of \t416: 95.00% (19/20)\n",
            "Test Accuracy of \t417: 100.00% (20/20)\n",
            "Test Accuracy of \t418: 95.00% (19/20)\n",
            "Test Accuracy of \t419: 95.00% (19/20)\n",
            "Test Accuracy of \t420: 95.00% (19/20)\n",
            "Test Accuracy of \t421: 100.00% (20/20)\n",
            "Test Accuracy of \t422: 100.00% (20/20)\n",
            "Test Accuracy of \t423: 100.00% (20/20)\n",
            "Test Accuracy of \t424: 100.00% (20/20)\n",
            "Test Accuracy of \t425: 100.00% (20/20)\n",
            "Test Accuracy of \t426: 100.00% (20/20)\n",
            "Test Accuracy of \t427: 100.00% (20/20)\n",
            "Test Accuracy of \t428: 95.00% (19/20)\n",
            "Test Accuracy of \t429: 100.00% (20/20)\n",
            "Test Accuracy of \t430: 95.00% (19/20)\n",
            "Test Accuracy of \t431: 100.00% (20/20)\n",
            "Test Accuracy of \t432: 90.00% (18/20)\n",
            "Test Accuracy of \t433: 100.00% (20/20)\n",
            "Test Accuracy of \t434: 100.00% (20/20)\n",
            "Test Accuracy of \t435: 100.00% (20/20)\n",
            "Test Accuracy of \t436: 100.00% (20/20)\n",
            "Test Accuracy of \t437: 90.00% (18/20)\n",
            "Test Accuracy of \t438: 95.00% (19/20)\n",
            "Test Accuracy of \t439: 100.00% (20/20)\n",
            "Test Accuracy of \t440: 100.00% (20/20)\n",
            "Test Accuracy of \t441: 95.00% (19/20)\n",
            "Test Accuracy of \t442: 95.00% (19/20)\n",
            "Test Accuracy of \t443: 100.00% (20/20)\n",
            "Test Accuracy of \t444: 100.00% (20/20)\n",
            "Test Accuracy of \t445: 100.00% (20/20)\n",
            "Test Accuracy of \t446: 95.00% (19/20)\n",
            "Test Accuracy of \t447: 100.00% (20/20)\n",
            "Test Accuracy of \t448: 100.00% (20/20)\n",
            "Test Accuracy of \t449: 95.00% (19/20)\n",
            "Test Accuracy of \t450: 100.00% (20/20)\n",
            "Test Accuracy of \t451: 95.00% (19/20)\n",
            "Test Accuracy of \t452: 100.00% (20/20)\n",
            "Test Accuracy of \t453: 100.00% (20/20)\n",
            "Test Accuracy of \t454: 95.00% (19/20)\n",
            "Test Accuracy of \t455: 100.00% (20/20)\n",
            "Test Accuracy of \t456: 100.00% (20/20)\n",
            "Test Accuracy of \t457: 90.00% (18/20)\n",
            "Test Accuracy of \t458: 100.00% (20/20)\n",
            "Test Accuracy of \t459: 100.00% (20/20)\n",
            "Test Accuracy of \t460: 100.00% (20/20)\n",
            "Test Accuracy of \t461: 100.00% (20/20)\n",
            "Test Accuracy of \t462: 100.00% (20/20)\n",
            "Test Accuracy of \t463: 95.00% (19/20)\n",
            "Test Accuracy of \t464: 100.00% (20/20)\n",
            "Test Accuracy of \t465: 100.00% (20/20)\n",
            "Test Accuracy of \t466: 100.00% (20/20)\n",
            "Test Accuracy of \t467: 95.00% (19/20)\n",
            "Test Accuracy of \t468: 100.00% (20/20)\n",
            "Test Accuracy of \t469: 100.00% (20/20)\n",
            "Test Accuracy of \t470: 100.00% (20/20)\n",
            "Test Accuracy of \t471: 100.00% (20/20)\n",
            "Test Accuracy of \t472: 95.00% (19/20)\n",
            "Test Accuracy of \t473: 100.00% (20/20)\n",
            "Test Accuracy of \t474: 100.00% (20/20)\n",
            "Test Accuracy of \t475: 90.00% (18/20)\n",
            "Test Accuracy of \t476: 100.00% (20/20)\n",
            "Test Accuracy of \t477: 100.00% (20/20)\n",
            "Test Accuracy of \t478: 100.00% (20/20)\n",
            "Test Accuracy of \t479: 100.00% (20/20)\n",
            "Test Accuracy of \t480: 100.00% (20/20)\n",
            "Test Accuracy of \t481: 100.00% (20/20)\n",
            "Test Accuracy of \t482: 100.00% (20/20)\n",
            "Test Accuracy of \t483: 100.00% (20/20)\n",
            "Test Accuracy of \t484: 90.00% (18/20)\n",
            "Test Accuracy of \t485: 100.00% (20/20)\n",
            "Test Accuracy of \t486: 100.00% (20/20)\n",
            "Test Accuracy of \t487: 95.00% (19/20)\n",
            "Test Accuracy of \t488: 100.00% (20/20)\n",
            "Test Accuracy of \t489: 100.00% (20/20)\n",
            "Test Accuracy of \t490: 90.00% (18/20)\n",
            "Test Accuracy of \t491: 95.00% (19/20)\n",
            "Test Accuracy of \t492: 100.00% (20/20)\n",
            "Test Accuracy of \t493: 95.00% (19/20)\n",
            "Test Accuracy of \t494: 100.00% (20/20)\n",
            "Test Accuracy of \t495: 95.00% (19/20)\n",
            "Test Accuracy of \t496: 95.00% (19/20)\n",
            "Test Accuracy of \t497: 100.00% (20/20)\n",
            "Test Accuracy of \t498: 100.00% (20/20)\n",
            "Test Accuracy of \t499: 100.00% (20/20)\n",
            "Test Accuracy (Overall) : 98.34%\n"
          ]
        }
      ],
      "source": [
        "model.eval()\n",
        "\n",
        "# Initialize variables\n",
        "correct = 0\n",
        "total = 0\n",
        "\n",
        "# Iterate over the test_loader\n",
        "i = 0\n",
        "for data, target in test_loader:\n",
        "\n",
        "    # Perform a forward pass\n",
        "    output = model(data)\n",
        "\n",
        "    # Get the predicted labels\n",
        "    _, predicted = torch.max(output.data, 1)\n",
        "\n",
        "    # Count the number of correct predictions\n",
        "    correct += (predicted == target).sum().item()\n",
        "    total += target.size(0)\n",
        "    print(f'Test Accuracy of \\t{i}: {(predicted == target).sum().item()/target.size(0) * 100:.2f}% ({(predicted == target).sum().item()}/{target.size(0)})')\n",
        "    i += 1\n",
        "\n",
        "# Calculate test accuracy\n",
        "test_accuracy = correct / total\n",
        "\n",
        "print(f'Test Accuracy (Overall) : {test_accuracy * 100:.2f}%')\n"
      ]
    },
    {
      "cell_type": "markdown",
      "metadata": {
        "id": "eTA44HaIlprv"
      },
      "source": [
        "### Visualize Sample Test Results\n",
        "\n",
        "This cell displays test images and their labels in this format: `predicted (ground-truth)`. The text will be green for accurately classified examples and red for incorrect predictions."
      ]
    },
    {
      "cell_type": "code",
      "execution_count": 86,
      "metadata": {
        "id": "y8n1Mlpelprw",
        "outputId": "59e82956-e714-41cb-8042-aebad9867954",
        "colab": {
          "base_uri": "https://localhost:8080/",
          "height": 327
        }
      },
      "outputs": [
        {
          "output_type": "display_data",
          "data": {
            "text/plain": [
              "<Figure size 2500x400 with 20 Axes>"
            ],
            "image/png": "[encoded data removed]"
          },
          "metadata": {}
        }
      ],
      "source": [
        "def imshow(img):\n",
        "    img = img.numpy().squeeze()\n",
        "    plt.imshow(img, cmap='gray')\n",
        "\n",
        "dataiter = iter(test_loader)\n",
        "images, labels = next(dataiter)\n",
        "\n",
        "output = model(images)\n",
        "\n",
        "_, preds = torch.max(output, 1)\n",
        "\n",
        "fig = plt.figure(figsize=(25, 4))\n",
        "for idx in np.arange(20):\n",
        "    ax = fig.add_subplot(2, 10, idx + 1, xticks=[], yticks=[])\n",
        "    imshow(images.cpu()[idx])\n",
        "    ax.set_title(\"{} ({})\".format(str(preds[idx].item()), str(labels[idx].item())))\n"
      ]
    },
    {
      "cell_type": "code",
      "execution_count": null,
      "metadata": {
        "id": "fsK_dZeGlprw"
      },
      "outputs": [],
      "source": []
    }
  ],
  "metadata": {
    "anaconda-cloud": {},
    "kernelspec": {
      "display_name": "Python 3 (ipykernel)",
      "language": "python",
      "name": "python3"
    },
    "language_info": {
      "codemirror_mode": {
        "name": "ipython",
        "version": 3
      },
      "file_extension": ".py",
      "mimetype": "text/x-python",
      "name": "python",
      "nbconvert_exporter": "python",
      "pygments_lexer": "ipython3",
      "version": "3.10.6"
    },
    "colab": {
      "provenance": []
    }
  },
  "nbformat": 4,
  "nbformat_minor": 0
}