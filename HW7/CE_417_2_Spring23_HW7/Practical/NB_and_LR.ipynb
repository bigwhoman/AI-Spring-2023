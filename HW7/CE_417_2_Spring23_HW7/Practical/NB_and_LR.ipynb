{
 "cells": [
  {
   "cell_type": "markdown",
   "metadata": {
    "id": "5AzNo1pOhIcH"
   },
   "source": [
    "The implementation of Naive Bayes and Logistic Regression is supposed to be from scratch."
   ]
  },
  {
   "cell_type": "markdown",
   "metadata": {
    "id": "36YSVA-j5xQ5"
   },
   "source": [
    "# Naive Bayes (50)"
   ]
  },
  {
   "cell_type": "markdown",
   "metadata": {
    "id": "zGGm0CAthrVm"
   },
   "source": [
    "Naive Bayes methods are a set of supervised learning algorithms based on applying Bayes’ theorem with the “naive” assumption of conditional independence between every pair of features given the value of the class variable."
   ]
  },
  {
   "cell_type": "markdown",
   "metadata": {
    "id": "Rr5nM6pCigHq"
   },
   "source": [
    "$P(y \\mid x_1, \\dots, x_n) = \\frac{P(y) P(x_1, \\dots, x_n \\mid y)} {P(x_1, \\dots, x_n)}$"
   ]
  },
  {
   "cell_type": "markdown",
   "metadata": {
    "id": "iBCcOp2Zis3f"
   },
   "source": [
    "$P(x_i | y, x_1, \\dots, x_{i-1}, x_{i+1}, \\dots, x_n) = P(x_i | y)$"
   ]
  },
  {
   "cell_type": "markdown",
   "metadata": {
    "id": "5_8sGl2JiyC1"
   },
   "source": [
    "$P(y \\mid x_1, \\dots, x_n) = \\frac{P(y) \\prod_{i=1}^{n} P(x_i \\mid y)}{P(x_1, \\dots, x_n)}$"
   ]
  },
  {
   "cell_type": "markdown",
   "metadata": {
    "id": "6cm2XNKHi2PG"
   },
   "source": [
    "$\\begin{align}\\begin{aligned}P(y \\mid x_1, \\dots, x_n) \\propto P(y) \\prod_{i=1}{n} P(x_i \\mid y)\\\\\\Downarrow\\\\\\hat{y} = \\arg\\max_y P(y) \\prod_{i=1}^{n} P(x_i \\mid y)\\end{aligned}\\end{align}$"
   ]
  },
  {
   "cell_type": "markdown",
   "metadata": {
    "id": "I8hTshtjjD4c"
   },
   "source": [
    "In spite of their apparently over-simplified assumptions, naive Bayes classifiers have worked quite well in many real-world situations, famously document classification and spam filtering. They require a small amount of training data to estimate the necessary parameters. "
   ]
  },
  {
   "cell_type": "markdown",
   "metadata": {
    "id": "MhGOePaPjPbG"
   },
   "source": [
    "Naive Bayes learners and classifiers can be extremely fast compared to more sophisticated methods. The decoupling of the class conditional feature distributions means that each distribution can be independently estimated as a one dimensional distribution. This in turn helps to alleviate problems stemming from the curse of dimensionality.\n",
    "\n",
    "On the flip side, although naive Bayes is known as a decent classifier, it is known to be a bad estimator, so the probability outputs are not to be taken too seriously."
   ]
  },
  {
   "cell_type": "code",
   "execution_count": 13,
   "metadata": {
    "id": "luSQvKVFiMVR",
    "vscode": {
     "languageId": "python"
    }
   },
   "outputs": [
    {
     "ename": "ModuleNotFoundError",
     "evalue": "No module named 'seaborn'",
     "output_type": "error",
     "traceback": [
      "\u001b[0;31m---------------------------------------------------------------------------\u001b[0m",
      "\u001b[0;31mModuleNotFoundError\u001b[0m                       Traceback (most recent call last)",
      "Cell \u001b[0;32mIn[13], line 1\u001b[0m\n\u001b[0;32m----> 1\u001b[0m \u001b[39mimport\u001b[39;00m \u001b[39mseaborn\u001b[39;00m \u001b[39mas\u001b[39;00m \u001b[39msns\u001b[39;00m\n\u001b[1;32m      2\u001b[0m \u001b[39mimport\u001b[39;00m \u001b[39mpandas\u001b[39;00m \u001b[39mas\u001b[39;00m \u001b[39mpd\u001b[39;00m\n\u001b[1;32m      3\u001b[0m \u001b[39mimport\u001b[39;00m \u001b[39mmatplotlib\u001b[39;00m\u001b[39m.\u001b[39;00m\u001b[39mpyplot\u001b[39;00m \u001b[39mas\u001b[39;00m \u001b[39mplt\u001b[39;00m\n",
      "\u001b[0;31mModuleNotFoundError\u001b[0m: No module named 'seaborn'"
     ]
    }
   ],
   "source": [
    "import seaborn as sns\n",
    "import pandas as pd\n",
    "import matplotlib.pyplot as plt\n",
    "import numpy as np\n",
    "from scipy.stats import norm\n",
    "np.random.seed(123)"
   ]
  },
  {
   "cell_type": "markdown",
   "metadata": {
    "id": "mG9eriVCk5ZW"
   },
   "source": [
    "### Dataset\n",
    "Load the given dataset. The last column contains the labels. \n",
    "\n",
    "Preprocess if needed."
   ]
  },
  {
   "cell_type": "code",
   "execution_count": 51,
   "metadata": {
    "id": "mcK58W-tkxxK",
    "vscode": {
     "languageId": "python"
    }
   },
   "outputs": [],
   "source": [
    "#TODO: Load the .txt file\n",
    "data = np.loadtxt('data.txt', delimiter=' ')\n",
    "labels = data[:, -1]"
   ]
  },
  {
   "cell_type": "markdown",
   "metadata": {
    "id": "SS4_sX-Dmd9H"
   },
   "source": [
    "Consider the values of each class. Create a dictionary for the dataset, with classes as keys and the entries of the dataset as values."
   ]
  },
  {
   "cell_type": "code",
   "execution_count": 47,
   "metadata": {
    "id": "0nDpA3InmdKG",
    "vscode": {
     "languageId": "python"
    }
   },
   "outputs": [],
   "source": [
    "def create_class_dictionary(data, labels):\n",
    "    classes = {}\n",
    "    unique_labels = np.unique(labels)\n",
    "    for label in unique_labels:\n",
    "        classes[label] = data[labels == label]\n",
    "    return classes"
   ]
  },
  {
   "cell_type": "markdown",
   "metadata": {
    "id": "7oRTA9MPnMhW"
   },
   "source": [
    "For the dataset dictionary, find the mean and standard deviation of all classes. The output format should be a list of two lists, the first one the mean and standard deviation of the first column and the second one is for the second column."
   ]
  },
  {
   "cell_type": "code",
   "execution_count": null,
   "metadata": {
    "id": "i4WGyr1Kl69o",
    "vscode": {
     "languageId": "python"
    }
   },
   "outputs": [],
   "source": [
    "def info(data):\n",
    "        class_mean = np.mean(data, axis=0)\n",
    "        class_std = np.std(data, axis=0)\n",
    "        return (class_mean,class_std)"
   ]
  },
  {
   "cell_type": "code",
   "execution_count": 48,
   "metadata": {
    "id": "bD_VHsMpnhg_",
    "vscode": {
     "languageId": "python"
    }
   },
   "outputs": [],
   "source": [
    "def class_info(class_dictionary):\n",
    "  for label in class_dictionary : \n",
    "    print(info(class_dictionary[label]))"
   ]
  },
  {
   "cell_type": "markdown",
   "metadata": {
    "id": "LWp9wJ7LpIK6"
   },
   "source": [
    "### Visualization\n",
    "Use the imported libraries to visualize the given data. \n",
    "\n",
    "Why is the info step valid in this dataset? \n",
    "\n",
    "What is the type of this dataset's distribution? With other distribution types, what action would be needed to obtain the mean and standard variation info?"
   ]
  },
  {
   "cell_type": "code",
   "execution_count": 49,
   "metadata": {
    "id": "Mdut2HsDpG7P",
    "vscode": {
     "languageId": "python"
    }
   },
   "outputs": [
    {
     "data": {
      "image/png": "[encoded data removed]",
      "text/plain": [
       "<Figure size 640x480 with 1 Axes>"
      ]
     },
     "metadata": {},
     "output_type": "display_data"
    }
   ],
   "source": [
    "#TODO\n",
    "x = data[:, 0]\n",
    "y = data[:, 1]\n",
    "\n",
    "# create a scatter plot of the data\n",
    "plt.scatter(x, y)\n",
    "\n",
    "# add a title and labels to the plot\n",
    "plt.title('our data')\n",
    "plt.xlabel('x')\n",
    "plt.ylabel('y')\n",
    "\n",
    "# display the plot\n",
    "plt.show()"
   ]
  },
  {
   "cell_type": "markdown",
   "metadata": {
    "id": "w9YhQPq5qQmi"
   },
   "source": [
    "### Model Details\n",
    "\n",
    "As explained above, to create this model, you need a prior function and a likelihood function.\n",
    "\n",
    "In the likelihood function, you need to calculate the probability of the query belonging to a class. "
   ]
  },
  {
   "cell_type": "code",
   "execution_count": null,
   "metadata": {
    "id": "DE_8cfT9qT7F",
    "vscode": {
     "languageId": "python"
    }
   },
   "outputs": [],
   "source": [
    "def prior(class_dictionary, labels):\n",
    "  #TODO\n",
    "  pass"
   ]
  },
  {
   "cell_type": "code",
   "execution_count": null,
   "metadata": {
    "id": "BrZwF9jNq54e",
    "vscode": {
     "languageId": "python"
    }
   },
   "outputs": [],
   "source": [
    "def likelihood(class_dictionary, query):\n",
    "  #TODO\n",
    "  pass"
   ]
  },
  {
   "cell_type": "markdown",
   "metadata": {
    "id": "Yyc87dyz0ZtC"
   },
   "source": [
    "### Predict\n"
   ]
  },
  {
   "cell_type": "code",
   "execution_count": null,
   "metadata": {
    "id": "LC7-G7-C0UeI",
    "vscode": {
     "languageId": "python"
    }
   },
   "outputs": [],
   "source": [
    "def predict(data, labels, query):\n",
    "  #TODO\n",
    "  pass"
   ]
  },
  {
   "cell_type": "code",
   "execution_count": null,
   "metadata": {
    "id": "cRfNQZ8-04DL",
    "vscode": {
     "languageId": "python"
    }
   },
   "outputs": [],
   "source": [
    "def NB(data, labels, queries):\n",
    "  #TODO: call the predict function for all queries\n",
    "  pass"
   ]
  },
  {
   "cell_type": "markdown",
   "metadata": {
    "id": "ptYF5MxR1IXj"
   },
   "source": [
    "### Test\n",
    "To test the model, import a suitable dataset from sklearn library to check the accuracy of your model. Then import GaussianNB from sklearn and compare your model's result with it."
   ]
  },
  {
   "cell_type": "code",
   "execution_count": null,
   "metadata": {
    "id": "Pq-bDAf11HKI",
    "vscode": {
     "languageId": "python"
    }
   },
   "outputs": [],
   "source": [
    "def train_test_split(data, labels, test_size):\n",
    "  #TODO return X_train, X_test, y_train, y_test\n",
    "  pass"
   ]
  },
  {
   "cell_type": "code",
   "execution_count": null,
   "metadata": {
    "id": "ogw89sLN1o1_",
    "vscode": {
     "languageId": "python"
    }
   },
   "outputs": [],
   "source": [
    "def accuracy(ground_truth, predictions):\n",
    "  # call the NB function for your chosen dataset\n",
    "  # calculate accuracy\n",
    "  pass"
   ]
  },
  {
   "cell_type": "code",
   "execution_count": null,
   "metadata": {
    "id": "BGwM37ZX1vBk",
    "vscode": {
     "languageId": "python"
    }
   },
   "outputs": [],
   "source": [
    "# compare with GaussianNB from sklearn"
   ]
  },
  {
   "cell_type": "markdown",
   "metadata": {
    "id": "pB3_dUtp2RGb"
   },
   "source": [
    "# Linear Regression (35)\n",
    "\n",
    "Linear regression analysis is used to predict the value of a variable based on the value of another variable. The variable you want to predict is called the dependent variable. The variable you are using to predict the other variable's value is called the independent variable.\n",
    "\n",
    "Ordinary least squares Linear Regression.\n",
    "\n",
    "LinearRegression from sklearn.linear_model fits a linear model with coefficients w = (w1, …, wp) to minimize the residual sum of squares between the observed targets in the dataset, and the targets predicted by the linear approximation.\n",
    "\n",
    "In this section, you will implement a simple linear regression model using sklearn. Only the first feature of the diabetes dataset is required for this part."
   ]
  },
  {
   "cell_type": "code",
   "execution_count": 2,
   "metadata": {
    "id": "V6nHfZLH2D_1",
    "vscode": {
     "languageId": "python"
    }
   },
   "outputs": [],
   "source": [
    "from sklearn.metrics import r2_score\n",
    "from sklearn import datasets, linear_model\n",
    "from sklearn.model_selection import train_test_split\n",
    "from sklearn.metrics import mean_squared_error\n",
    "from sklearn.metrics import confusion_matrix\n",
    "import matplotlib.pyplot as plt\n",
    "import numpy as np"
   ]
  },
  {
   "cell_type": "code",
   "execution_count": 26,
   "metadata": {
    "id": "VsJA9bM235h9",
    "vscode": {
     "languageId": "python"
    }
   },
   "outputs": [],
   "source": [
    "diabetes_X, diabetes_y = datasets.load_diabetes(return_X_y=True)\n",
    "arr_column_0 = diabetes_X[:, 0]\n",
    "\n",
    "# reshape the array to a 1x3 array\n",
    "reshaped_arr = arr_column_0.reshape(1, -1)\n",
    "\n",
    "diabetes_X = reshaped_arr[0] # Change this so that your model will use only one feature (arbitary)\n",
    "diabetes_X = diabetes_X.reshape(-1,1)"
   ]
  },
  {
   "cell_type": "markdown",
   "metadata": {
    "id": "ynGlCxqV4R5n"
   },
   "source": [
    "Split the data into training and testing sets."
   ]
  },
  {
   "cell_type": "code",
   "execution_count": 27,
   "metadata": {
    "id": "VeN0-ObT4Nu7",
    "vscode": {
     "languageId": "python"
    }
   },
   "outputs": [],
   "source": [
    "# you can use the train_test_split(data, labels, test_size) function from the previous section\n",
    "X_train, X_test, y_train, y_test = train_test_split(diabetes_X, diabetes_y)"
   ]
  },
  {
   "cell_type": "markdown",
   "metadata": {
    "id": "E0diHAiL4qww"
   },
   "source": [
    "Create the model using sklearn. Then train it using the training set."
   ]
  },
  {
   "cell_type": "code",
   "execution_count": 28,
   "metadata": {
    "id": "_76nVOTH4lLI",
    "vscode": {
     "languageId": "python"
    }
   },
   "outputs": [
    {
     "data": {
      "text/html": [
       "<style>#sk-container-id-2 {color: black;background-color: white;}#sk-container-id-2 pre{padding: 0;}#sk-container-id-2 div.sk-toggleable {background-color: white;}#sk-container-id-2 label.sk-toggleable__label {cursor: pointer;display: block;width: 100%;margin-bottom: 0;padding: 0.3em;box-sizing: border-box;text-align: center;}#sk-container-id-2 label.sk-toggleable__label-arrow:before {content: \"▸\";float: left;margin-right: 0.25em;color: #696969;}#sk-container-id-2 label.sk-toggleable__label-arrow:hover:before {color: black;}#sk-container-id-2 div.sk-estimator:hover label.sk-toggleable__label-arrow:before {color: black;}#sk-container-id-2 div.sk-toggleable__content {max-height: 0;max-width: 0;overflow: hidden;text-align: left;background-color: #f0f8ff;}#sk-container-id-2 div.sk-toggleable__content pre {margin: 0.2em;color: black;border-radius: 0.25em;background-color: #f0f8ff;}#sk-container-id-2 input.sk-toggleable__control:checked~div.sk-toggleable__content {max-height: 200px;max-width: 100%;overflow: auto;}#sk-container-id-2 input.sk-toggleable__control:checked~label.sk-toggleable__label-arrow:before {content: \"▾\";}#sk-container-id-2 div.sk-estimator input.sk-toggleable__control:checked~label.sk-toggleable__label {background-color: #d4ebff;}#sk-container-id-2 div.sk-label input.sk-toggleable__control:checked~label.sk-toggleable__label {background-color: #d4ebff;}#sk-container-id-2 input.sk-hidden--visually {border: 0;clip: rect(1px 1px 1px 1px);clip: rect(1px, 1px, 1px, 1px);height: 1px;margin: -1px;overflow: hidden;padding: 0;position: absolute;width: 1px;}#sk-container-id-2 div.sk-estimator {font-family: monospace;background-color: #f0f8ff;border: 1px dotted black;border-radius: 0.25em;box-sizing: border-box;margin-bottom: 0.5em;}#sk-container-id-2 div.sk-estimator:hover {background-color: #d4ebff;}#sk-container-id-2 div.sk-parallel-item::after {content: \"\";width: 100%;border-bottom: 1px solid gray;flex-grow: 1;}#sk-container-id-2 div.sk-label:hover label.sk-toggleable__label {background-color: #d4ebff;}#sk-container-id-2 div.sk-serial::before {content: \"\";position: absolute;border-left: 1px solid gray;box-sizing: border-box;top: 0;bottom: 0;left: 50%;z-index: 0;}#sk-container-id-2 div.sk-serial {display: flex;flex-direction: column;align-items: center;background-color: white;padding-right: 0.2em;padding-left: 0.2em;position: relative;}#sk-container-id-2 div.sk-item {position: relative;z-index: 1;}#sk-container-id-2 div.sk-parallel {display: flex;align-items: stretch;justify-content: center;background-color: white;position: relative;}#sk-container-id-2 div.sk-item::before, #sk-container-id-2 div.sk-parallel-item::before {content: \"\";position: absolute;border-left: 1px solid gray;box-sizing: border-box;top: 0;bottom: 0;left: 50%;z-index: -1;}#sk-container-id-2 div.sk-parallel-item {display: flex;flex-direction: column;z-index: 1;position: relative;background-color: white;}#sk-container-id-2 div.sk-parallel-item:first-child::after {align-self: flex-end;width: 50%;}#sk-container-id-2 div.sk-parallel-item:last-child::after {align-self: flex-start;width: 50%;}#sk-container-id-2 div.sk-parallel-item:only-child::after {width: 0;}#sk-container-id-2 div.sk-dashed-wrapped {border: 1px dashed gray;margin: 0 0.4em 0.5em 0.4em;box-sizing: border-box;padding-bottom: 0.4em;background-color: white;}#sk-container-id-2 div.sk-label label {font-family: monospace;font-weight: bold;display: inline-block;line-height: 1.2em;}#sk-container-id-2 div.sk-label-container {text-align: center;}#sk-container-id-2 div.sk-container {/* jupyter's `normalize.less` sets `[hidden] { display: none; }` but bootstrap.min.css set `[hidden] { display: none !important; }` so we also need the `!important` here to be able to override the default hidden behavior on the sphinx rendered scikit-learn.org. See: https://github.com/scikit-learn/scikit-learn/issues/21755 */display: inline-block !important;position: relative;}#sk-container-id-2 div.sk-text-repr-fallback {display: none;}</style><div id=\"sk-container-id-2\" class=\"sk-top-container\"><div class=\"sk-text-repr-fallback\"><pre>LinearRegression()</pre><b>In a Jupyter environment, please rerun this cell to show the HTML representation or trust the notebook. <br />On GitHub, the HTML representation is unable to render, please try loading this page with nbviewer.org.</b></div><div class=\"sk-container\" hidden><div class=\"sk-item\"><div class=\"sk-estimator sk-toggleable\"><input class=\"sk-toggleable__control sk-hidden--visually\" id=\"sk-estimator-id-2\" type=\"checkbox\" checked><label for=\"sk-estimator-id-2\" class=\"sk-toggleable__label sk-toggleable__label-arrow\">LinearRegression</label><div class=\"sk-toggleable__content\"><pre>LinearRegression()</pre></div></div></div></div></div>"
      ],
      "text/plain": [
       "LinearRegression()"
      ]
     },
     "execution_count": 28,
     "metadata": {},
     "output_type": "execute_result"
    }
   ],
   "source": [
    "model = linear_model.LinearRegression()\n",
    "model.fit(X_train,y_train)"
   ]
  },
  {
   "cell_type": "markdown",
   "metadata": {
    "id": "jogQMqjc41q9"
   },
   "source": [
    "Make predictions for the test set."
   ]
  },
  {
   "cell_type": "code",
   "execution_count": 36,
   "metadata": {
    "id": "LIIMboiY5CiT",
    "vscode": {
     "languageId": "python"
    }
   },
   "outputs": [],
   "source": [
    "#TODO\n",
    "predicted = model.predict(X_test)"
   ]
  },
  {
   "cell_type": "markdown",
   "metadata": {
    "id": "Mv3PUcdS5Dlo"
   },
   "source": [
    "Visualize your predictions and compare them to ground truth using the imported libraries."
   ]
  },
  {
   "cell_type": "code",
   "execution_count": 40,
   "metadata": {
    "id": "LsTXKZvM5KWp",
    "vscode": {
     "languageId": "python"
    }
   },
   "outputs": [
    {
     "data": {
      "image/png": "[encoded data removed]",
      "text/plain": [
       "<Figure size 640x480 with 1 Axes>"
      ]
     },
     "metadata": {},
     "output_type": "display_data"
    }
   ],
   "source": [
    "#TODO\n",
    "mse = mean_squared_error(y_test, predicted)\n",
    "plt.scatter(X_test, predicted, label='trained set')\n",
    "plt.scatter(X_test, y_test, label='test set')\n",
    "\n",
    "# add a title and legend to the plot\n",
    "plt.title('Two sets of points')\n",
    "plt.legend()\n",
    "\n",
    "# display the plot\n",
    "plt.show()"
   ]
  },
  {
   "cell_type": "markdown",
   "metadata": {
    "id": "d8Kg5i465SNb"
   },
   "source": [
    "# Logistic Regression (15 + 50)\n",
    "\n",
    "This type of statistical model (also known as logit model) is often used for classification and predictive analytics. Logistic regression estimates the probability of an event occurring, such as voted or didn't vote, based on a given dataset of independent variables.\n",
    "\n",
    "$S(h(x)) = \\frac{1}{1 + e^{-(\\theta_0 + \\theta_1 x_1 + \\theta_1 x_2 + \\cdots + \\theta_n x_n})} = \\frac{1}{1 + e^{-\\theta^T x}} \\tag{2}$\n",
    "\n",
    "The sigmoid function is of importance here and is defined as:\n",
    "\n",
    "$S(x) = \\frac{1}{1 + e^{-x}}$\n",
    "\n",
    "\n",
    "\n",
    "\n"
   ]
  },
  {
   "cell_type": "markdown",
   "metadata": {
    "id": "V_Rc3pUF6Pji"
   },
   "source": [
    "Calculate the sigmoid function and visualize it."
   ]
  },
  {
   "cell_type": "code",
   "execution_count": 3,
   "metadata": {
    "id": "v_bGZ_X85f4W",
    "vscode": {
     "languageId": "python"
    }
   },
   "outputs": [],
   "source": [
    "def sigmoid(x):\n",
    "  return 1/(1+np.exp(-x))"
   ]
  },
  {
   "cell_type": "code",
   "execution_count": 4,
   "metadata": {
    "id": "Qrcgiip56e50",
    "vscode": {
     "languageId": "python"
    }
   },
   "outputs": [
    {
     "data": {
      "image/png": "[encoded data removed]",
      "text/plain": [
       "<Figure size 640x480 with 1 Axes>"
      ]
     },
     "metadata": {},
     "output_type": "display_data"
    }
   ],
   "source": [
    "#TODO: visualize the sigmoid function for arbitary range of x. you can use np.linspace\n",
    "# create an array of values for x\n",
    "x = np.linspace(-2, 4, 100)\n",
    "\n",
    "# evaluate the function for each value of x\n",
    "y = sigmoid(x)\n",
    "\n",
    "# plot the function\n",
    "plt.plot(x, y)\n",
    "\n",
    "# add a title and labels to the plot\n",
    "plt.title('Plot of sigmoid(x)')\n",
    "plt.xlabel('x')\n",
    "plt.ylabel('sigmoid(x)')\n",
    "\n",
    "# display the plot\n",
    "plt.show()"
   ]
  },
  {
   "attachments": {},
   "cell_type": "markdown",
   "metadata": {
    "id": "IwL9DuGh7EHh"
   },
   "source": [
    "### Dataset\n",
    "Load the given dataset (same as naive bayes). Add a new column at the end of the dataset containing only 1s."
   ]
  },
  {
   "cell_type": "code",
   "execution_count": 9,
   "metadata": {
    "id": "D00oSB3Q6rD9",
    "vscode": {
     "languageId": "python"
    }
   },
   "outputs": [],
   "source": [
    "#TODO\n",
    "data = np.loadtxt('data.txt', delimiter=' ')\n",
    "labels = data[:, -1]\n",
    "# print(len(data))\n",
    "col = np.ones((len(data),1), dtype=int)\n",
    "# print(col)\n",
    "data = np.concatenate([data,col],axis=1)\n",
    "# print(data)"
   ]
  },
  {
   "cell_type": "markdown",
   "metadata": {
    "id": "ejeLlynP7Xa_"
   },
   "source": [
    "### Predictions\n",
    "\n",
    "Simply implement the math above to make predictions. Since we are using numbers here, define the threshold of 0.5 for classification."
   ]
  },
  {
   "cell_type": "code",
   "execution_count": 12,
   "metadata": {
    "id": "IJrCamvm7WzK",
    "vscode": {
     "languageId": "python"
    }
   },
   "outputs": [
    {
     "name": "stdout",
     "output_type": "stream",
     "text": [
      "20\n"
     ]
    }
   ],
   "source": [
    "# print(sum(np.multiply(np.array([3,2,1,0]),np.array([1,5,7,3]))))\n",
    "def predict(weights, x):\n",
    "  #TODO\n",
    "  logit = sum(np.multiply(weights,x))\n",
    "  if sigmoid(logit) > 0.5 :\n",
    "    return 1\n",
    "  else :\n",
    "    return 0"
   ]
  },
  {
   "cell_type": "markdown",
   "metadata": {
    "id": "b-XmjNsO75bS"
   },
   "source": [
    "### Loss Function\n",
    "Cross-entropy loss, or log loss, measures the performance of a classification model whose output is a probability value between 0 and 1. Cross-entropy loss increases as the predicted probability diverges from the actual label. So predicting a probability of .012 when the actual observation label is 1 would be bad and result in a high loss value. A perfect model would have a log loss of 0.\n",
    "\n",
    "In binary classification, where the number of classes M\n",
    " equals 2, cross-entropy can be calculated as:\n",
    "\n",
    "$−(ylog(p)+(1−y)log(1−p))$\n"
   ]
  },
  {
   "cell_type": "code",
   "execution_count": 14,
   "metadata": {
    "id": "iM3SUJA-717R",
    "vscode": {
     "languageId": "python"
    }
   },
   "outputs": [],
   "source": [
    "def cross_entropy(y_true, y_pred):\n",
    "  return -(y_true * np.log(y_pred) + (1-y_true) * np.log(1-y_pred))"
   ]
  },
  {
   "cell_type": "markdown",
   "metadata": {
    "id": "sgOxchuk89lL"
   },
   "source": [
    "### Gradient Descent\n",
    "\n",
    "Gradient Descent is an optimization algorithm for finding a local minimum of a differentiable function. Gradient descent in machine learning is simply used to find the values of a function's parameters (coefficients) that minimize a cost function as far as possible.\n",
    "\n",
    "$\\theta := \\theta - \\alpha \\nabla_\\theta H \\tag{6}$"
   ]
  },
  {
   "cell_type": "code",
   "execution_count": null,
   "metadata": {
    "id": "75qw2i3680QK",
    "vscode": {
     "languageId": "python"
    }
   },
   "outputs": [],
   "source": [
    "def gradient_descent(X, y, weight, num_of_epochs, learning_rate = 0.005):\n",
    "  for epoch in range(num_of_epochs):\n",
    "     #TODO\n",
    "      y_pred = np.array([predict(weight, x) for x in X])\n",
    "      gradient = np.dot(X.T, (y_pred - y)) / y.size\n",
    "      weight -= learning_rate * gradient\n",
    "  return weight"
   ]
  },
  {
   "cell_type": "code",
   "execution_count": 26,
   "metadata": {
    "id": "vrNePqPL-SDM",
    "vscode": {
     "languageId": "python"
    }
   },
   "outputs": [],
   "source": [
    "def LR(train_set, labels, test_set, num_of_epochs, learning_rate = 0.005):\n",
    "  #TODO: simply gather all the functions you already implemented in this section to make valid and complete predictions for a given dataset\n",
    "  pass"
   ]
  },
  {
   "cell_type": "markdown",
   "metadata": {
    "id": "O6P0Usic-Maj"
   },
   "source": [
    "### Test\n",
    "\n",
    "To test the model, import a suitable dataset from sklearn library to check the accuracy of your model. Then import LogisticRegression from sklearn and compare your model's result with it.\n",
    "\n"
   ]
  },
  {
   "cell_type": "code",
   "execution_count": 27,
   "metadata": {
    "id": "11f8e3rS_CbB",
    "vscode": {
     "languageId": "python"
    }
   },
   "outputs": [],
   "source": [
    "def accuracy(ground_truth, predictions):\n",
    "  # call the LR function for your chosen dataset\n",
    "  # calculate accuracy\n",
    "  pass"
   ]
  },
  {
   "cell_type": "code",
   "execution_count": null,
   "metadata": {
    "id": "opX7Phbj_JN-",
    "vscode": {
     "languageId": "python"
    }
   },
   "outputs": [],
   "source": [
    "# compare with sklearn.linear_model.LogisticRegression"
   ]
  },
  {
   "cell_type": "markdown",
   "metadata": {
    "id": "GGu4MOmU_QVq"
   },
   "source": [
    "### Visualization\n",
    "\n",
    "During your model's training, save the accuracy and loss of each epoch, and then plot them using the imported libraries. Explain the pattern. If the result is not satisfactory, change the learning rate, num of epochs, initial weights, etc and observe their effects on the result."
   ]
  },
  {
   "cell_type": "code",
   "execution_count": null,
   "metadata": {
    "id": "EdlupQWb_3OI",
    "vscode": {
     "languageId": "python"
    }
   },
   "outputs": [],
   "source": []
  }
 ],
 "metadata": {
  "colab": {
   "provenance": []
  },
  "kernelspec": {
   "display_name": "Python 3 (ipykernel)",
   "language": "python",
   "name": "python3"
  }
 },
 "nbformat": 4,
 "nbformat_minor": 4
}
