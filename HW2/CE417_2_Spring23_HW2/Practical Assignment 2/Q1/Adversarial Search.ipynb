{
 "cells": [
  {
   "cell_type": "markdown",
   "metadata": {},
   "source": [
    "<div align=center>\n",
    "\t\t\n",
    "<p></p>\n",
    "<p></p>\n",
    "<font size=5>\n",
    "In the Name of God\n",
    "<font/>\n",
    "<p></p>\n",
    " <br/>\n",
    "    <br/>\n",
    "<font color=#FF7500>\n",
    "Sharif University of Technology - Department of Computer Engineering\n",
    "</font>\n",
    "<p></p>\n",
    "<font color=blue>\n",
    "Artificial Intelligence - Mr. Samiei\n",
    "</font>\n",
    "<br/>\n",
    "<br/>\n",
    "Spring 2023\n",
    "\n",
    "<div/>\n",
    "\n",
    "<hr/>\n",
    "\t\t<div align=center>\n",
    "\t\t    <font color=red size=6>\n",
    "\t\t\t    <br />\n",
    "Practical Assignment(Adversarial Search)\n",
    "\t\t\t</font>\n",
    "    <br/>\n",
    "<font size=4>\n",
    "\t\t\t<br/><br/>\n",
    "Deadline:  Esfand 19th - 23:59\n",
    "                <br/><b>\n",
    "              Cheating is Strongly Prohibited\n",
    "                </b><br/><br/>\n",
    "                <font color=red>\n",
    "Please run all the cells.\n",
    "     </font>\n",
    "</font>\n",
    "                <br/>\n",
    "    </div>"
   ]
  },
  {
   "cell_type": "markdown",
   "metadata": {},
   "source": [
    "# Personal Info\n",
    "Student number = 99105667\n",
    "Name = Hooman\n",
    "Last_Name = Keshvari"
   ]
  },
  {
   "cell_type": "markdown",
   "metadata": {},
   "source": [
    "## Libraries"
   ]
  },
  {
   "cell_type": "code",
   "execution_count": 2,
   "metadata": {},
   "outputs": [
    {
     "name": "stdout",
     "output_type": "stream",
     "text": [
      "Requirement already satisfied: pygame in h:\\anaconda\\lib\\site-packages (2.2.0)\n",
      "Requirement already satisfied: numpy in h:\\anaconda\\lib\\site-packages (1.21.5)\n"
     ]
    }
   ],
   "source": [
    "! pip install pygame\n",
    "! pip install numpy"
   ]
  },
  {
   "cell_type": "markdown",
   "metadata": {},
   "source": [
    "# Adversarial Search (50 Points)"
   ]
  },
  {
   "cell_type": "markdown",
   "metadata": {},
   "source": [
    "<font size=4>\n",
    "Author: Erfan Sadraiye\n",
    "\t\t\t<br/>\n",
    "                <font color=red>\n",
    "Please run all the cells.\n",
    "     </font>\n",
    "</font>\n",
    "                <br/>\n",
    "    </div>"
   ]
  },
  {
   "cell_type": "markdown",
   "metadata": {},
   "source": [
    "In this problem you must implement a minimax agent to play a simple game know as Tic-tac-toe."
   ]
  },
  {
   "cell_type": "markdown",
   "metadata": {},
   "source": [
    "XO is a paper-and-pencil game for two players who take turns marking the spaces in a three-by-three grid with X or O. The player who succeeds in placing three of their marks in a horizontal, vertical, or diagonal row is the winner."
   ]
  },
  {
   "cell_type": "markdown",
   "metadata": {},
   "source": [
    "The game has already been implemented for you. You should implement two things:  \n",
    "1 - Implement the two minimax player logic in _Player.py_ . For the first player you must create the minimax tree until you reach a terminal node(a state which a player has won or there is a draw) or a cutoff state. Then you must use an evaluation function to score the leafs and find the next best move. For the second player you must do all the above however when you are playing as max there is a probability that you will choose a random move instead of the best move.\n",
    "2 - Implement the evaluation function in _Board.py_. Since we can't create the full game tree we need some sort of scoring function to differentiate between states. For example, we can count the pieces that are neighbours. better evaluation function will lead to a better minimax player.\n",
    "\n",
    "We will use the commented function in main.py to grade your code. You can also test your code by playing with it or using a random player."
   ]
  },
  {
   "cell_type": "markdown",
   "metadata": {},
   "source": [
    "You can play the game with a random player by running the next cell. Upon running it a GUI of the game will open.\n",
    "You can also change the players' type in this section."
   ]
  },
  {
   "cell_type": "code",
   "execution_count": 3,
   "metadata": {},
   "outputs": [
    {
     "name": "stdout",
     "output_type": "stream",
     "text": [
      "pygame 2.2.0 (SDL 2.0.22, Python 3.9.2)\n",
      "Hello from the pygame community. https://www.pygame.org/contribute.html\n"
     ]
    },
    {
     "ename": "AttributeError",
     "evalue": "'XO' object has no attribute 'start_game'",
     "output_type": "error",
     "traceback": [
      "\u001b[1;31m---------------------------------------------------------------------------\u001b[0m",
      "\u001b[1;31mAttributeError\u001b[0m                            Traceback (most recent call last)",
      "Cell \u001b[1;32mIn[3], line 7\u001b[0m\n\u001b[0;32m      5\u001b[0m player2 \u001b[38;5;241m=\u001b[39m HumanPlayer(\u001b[38;5;241m2\u001b[39m)\n\u001b[0;32m      6\u001b[0m game \u001b[38;5;241m=\u001b[39m XO(player1, player2)\n\u001b[1;32m----> 7\u001b[0m \u001b[43mgame\u001b[49m\u001b[38;5;241;43m.\u001b[39;49m\u001b[43mstart_game\u001b[49m()\n",
      "\u001b[1;31mAttributeError\u001b[0m: 'XO' object has no attribute 'start_game'"
     ]
    }
   ],
   "source": [
    "from Game import XO\n",
    "from Player import HumanPlayer, RandomPlayer, MiniMaxPlayer, MiniMaxProbPlayer\n",
    "\n",
    "player1 = RandomPlayer(1)\n",
    "player2 = HumanPlayer(2)\n",
    "game = XO(player1, player2)\n",
    "game.start_game()"
   ]
  },
  {
   "cell_type": "markdown",
   "metadata": {},
   "source": [
    "**Complete  the play function of MiniMaxPlayer and MiniMaxProbPlayer in _player.py_ and score_position function in _Board.py_, minimax and minimax_prob functions in _alpha_beta.py_ then run the following cells to test your implementation.**\n",
    "\n",
    "For earning full mark, MiniMaxPlayer shouldn't lose against RandomPlayer and MiniMaxProbPlayer, and you should win at least 45 game of these 50 game."
   ]
  },
  {
   "cell_type": "code",
   "execution_count": 4,
   "metadata": {},
   "outputs": [
    {
     "name": "stdout",
     "output_type": "stream",
     "text": [
      "player1 is O. player2 is X.\n",
      "player1 goes first.\n"
     ]
    },
    {
     "ename": "AssertionError",
     "evalue": "",
     "output_type": "error",
     "traceback": [
      "\u001b[1;31m---------------------------------------------------------------------------\u001b[0m",
      "\u001b[1;31mAssertionError\u001b[0m                            Traceback (most recent call last)",
      "Cell \u001b[1;32mIn[4], line 27\u001b[0m\n\u001b[0;32m     23\u001b[0m     \u001b[38;5;28;01mif\u001b[39;00m win1 \u001b[38;5;241m+\u001b[39m win2 \u001b[38;5;241m>\u001b[39m\u001b[38;5;241m=\u001b[39m \u001b[38;5;241m45\u001b[39m \u001b[38;5;129;01mand\u001b[39;00m lose1 \u001b[38;5;241m+\u001b[39m lose2 \u001b[38;5;241m==\u001b[39m \u001b[38;5;241m0\u001b[39m:\n\u001b[0;32m     24\u001b[0m         \u001b[38;5;28mprint\u001b[39m(\u001b[38;5;124m'\u001b[39m\u001b[38;5;124myou will earn the full mark from random player vs minimax\u001b[39m\u001b[38;5;124m'\u001b[39m)\n\u001b[1;32m---> 27\u001b[0m \u001b[43mmark\u001b[49m\u001b[43m(\u001b[49m\u001b[43m)\u001b[49m\n",
      "Cell \u001b[1;32mIn[4], line 19\u001b[0m, in \u001b[0;36mmark\u001b[1;34m()\u001b[0m\n\u001b[0;32m     17\u001b[0m player2 \u001b[38;5;241m=\u001b[39m RandomPlayer(\u001b[38;5;241m2\u001b[39m)\n\u001b[0;32m     18\u001b[0m player3 \u001b[38;5;241m=\u001b[39m MiniMaxProbPlayer(\u001b[38;5;241m2\u001b[39m, depth\u001b[38;5;241m=\u001b[39m\u001b[38;5;241m3\u001b[39m, prob_stochastic\u001b[38;5;241m=\u001b[39m\u001b[38;5;241m0.8\u001b[39m)\n\u001b[1;32m---> 19\u001b[0m win1, lose1, draw1 \u001b[38;5;241m=\u001b[39m \u001b[43mget_game_result\u001b[49m\u001b[43m(\u001b[49m\u001b[43mplayer1\u001b[49m\u001b[43m,\u001b[49m\u001b[43m \u001b[49m\u001b[43mplayer2\u001b[49m\u001b[43m,\u001b[49m\u001b[43m \u001b[49m\u001b[38;5;241;43m40\u001b[39;49m\u001b[43m)\u001b[49m\n\u001b[0;32m     20\u001b[0m win2, lose2, draw2 \u001b[38;5;241m=\u001b[39m get_game_result(player1, player3, \u001b[38;5;241m10\u001b[39m)\n\u001b[0;32m     21\u001b[0m \u001b[38;5;28mprint\u001b[39m(\u001b[38;5;124mf\u001b[39m\u001b[38;5;124m'\u001b[39m\u001b[38;5;124mminimax player vs random player win=\u001b[39m\u001b[38;5;132;01m{\u001b[39;00mwin1\u001b[38;5;132;01m}\u001b[39;00m\u001b[38;5;124m, lose=\u001b[39m\u001b[38;5;132;01m{\u001b[39;00mlose1\u001b[38;5;132;01m}\u001b[39;00m\u001b[38;5;124m, draw=\u001b[39m\u001b[38;5;132;01m{\u001b[39;00mdraw1\u001b[38;5;132;01m}\u001b[39;00m\u001b[38;5;124m'\u001b[39m)\n",
      "Cell \u001b[1;32mIn[4], line 5\u001b[0m, in \u001b[0;36mget_game_result\u001b[1;34m(player1, player2, num_game)\u001b[0m\n\u001b[0;32m      3\u001b[0m \u001b[38;5;28;01mfor\u001b[39;00m i \u001b[38;5;129;01min\u001b[39;00m \u001b[38;5;28mrange\u001b[39m(num_game):\n\u001b[0;32m      4\u001b[0m     game \u001b[38;5;241m=\u001b[39m XO(player1, player2)\n\u001b[1;32m----> 5\u001b[0m     result \u001b[38;5;241m=\u001b[39m \u001b[43mgame\u001b[49m\u001b[38;5;241;43m.\u001b[39;49m\u001b[43mplay_game_with_gui\u001b[49m\u001b[43m(\u001b[49m\u001b[43m)\u001b[49m\n\u001b[0;32m      6\u001b[0m     \u001b[38;5;28;01mif\u001b[39;00m result \u001b[38;5;241m==\u001b[39m \u001b[38;5;241m1\u001b[39m:\n\u001b[0;32m      7\u001b[0m         win \u001b[38;5;241m+\u001b[39m\u001b[38;5;241m=\u001b[39m \u001b[38;5;241m1\u001b[39m\n",
      "File \u001b[1;32mh:\\Sharif\\term6\\AI\\AI-Spring-2023\\HW2\\CE417_2_Spring23_HW2\\Practical Assignment 2\\Q1\\Game.py:144\u001b[0m, in \u001b[0;36mXO.play_game_with_gui\u001b[1;34m(self)\u001b[0m\n\u001b[0;32m    142\u001b[0m \u001b[39mwhile\u001b[39;00m \u001b[39mTrue\u001b[39;00m:\n\u001b[0;32m    143\u001b[0m     \u001b[39mif\u001b[39;00m turn \u001b[39m==\u001b[39m \u001b[39m0\u001b[39m:\n\u001b[1;32m--> 144\u001b[0m         row, col \u001b[39m=\u001b[39m \u001b[39mself\u001b[39;49m\u001b[39m.\u001b[39;49mplayer1\u001b[39m.\u001b[39;49mplay(\u001b[39mself\u001b[39;49m\u001b[39m.\u001b[39;49mboard)\n\u001b[0;32m    145\u001b[0m         \u001b[39mif\u001b[39;00m \u001b[39mself\u001b[39m\u001b[39m.\u001b[39mavailable_square(row, col):\n\u001b[0;32m    146\u001b[0m             BoardUtility\u001b[39m.\u001b[39mmake_move(\u001b[39mself\u001b[39m\u001b[39m.\u001b[39mboard, row, col, \u001b[39mself\u001b[39m\u001b[39m.\u001b[39mplayer1\u001b[39m.\u001b[39mpiece)\n",
      "File \u001b[1;32mh:\\Sharif\\term6\\AI\\AI-Spring-2023\\HW2\\CE417_2_Spring23_HW2\\Practical Assignment 2\\Q1\\Player.py:39\u001b[0m, in \u001b[0;36mMiniMaxPlayer.play\u001b[1;34m(self, board)\u001b[0m\n\u001b[0;32m     33\u001b[0m \u001b[39m\u001b[39m\u001b[39m\"\"\"\u001b[39;00m\n\u001b[0;32m     34\u001b[0m \u001b[39mInputs : \u001b[39;00m\n\u001b[0;32m     35\u001b[0m \u001b[39m   board : 3*3 numpy array. 0 for empty cell, 1 and 2 for cells contains a piece.\u001b[39;00m\n\u001b[0;32m     36\u001b[0m \u001b[39mreturn the next move (i,j) of the player based on minimax algorithm.\u001b[39;00m\n\u001b[0;32m     37\u001b[0m \u001b[39m\"\"\"\u001b[39;00m\n\u001b[0;32m     38\u001b[0m \u001b[39m# Todo: implement minimax algorithm with alpha beta pruning\u001b[39;00m\n\u001b[1;32m---> 39\u001b[0m value, move \u001b[39m=\u001b[39m minimax(board \u001b[39m=\u001b[39;49m board, player_piece\u001b[39m=\u001b[39;49m\u001b[39mself\u001b[39;49m\u001b[39m.\u001b[39;49mpiece, depth\u001b[39m=\u001b[39;49m\u001b[39mself\u001b[39;49m\u001b[39m.\u001b[39;49mdepth, is_maximizing_player\u001b[39m=\u001b[39;49m\u001b[39mTrue\u001b[39;49;00m, alpha\u001b[39m=\u001b[39;49m\u001b[39m-\u001b[39;49m\u001b[39m100_000_000\u001b[39;49m, beta\u001b[39m=\u001b[39;49m\u001b[39m100_000_000\u001b[39;49m)\n\u001b[0;32m     40\u001b[0m \u001b[39mreturn\u001b[39;00m move\n",
      "File \u001b[1;32mh:\\Sharif\\term6\\AI\\AI-Spring-2023\\HW2\\CE417_2_Spring23_HW2\\Practical Assignment 2\\Q1\\alpha_beta.py:21\u001b[0m, in \u001b[0;36mminimax\u001b[1;34m(board, player_piece, depth, is_maximizing_player, alpha, beta)\u001b[0m\n\u001b[0;32m     19\u001b[0m \u001b[39mfor\u001b[39;00m move \u001b[39min\u001b[39;00m BoardUtility\u001b[39m.\u001b[39mget_valid_locations(game_board\u001b[39m=\u001b[39mboard):\n\u001b[0;32m     20\u001b[0m     BoardUtility\u001b[39m.\u001b[39mmake_move(game_board\u001b[39m=\u001b[39mboard, row \u001b[39m=\u001b[39m move[\u001b[39m0\u001b[39m],col \u001b[39m=\u001b[39m move[\u001b[39m1\u001b[39m],player \u001b[39m=\u001b[39m player_piece)\n\u001b[1;32m---> 21\u001b[0m     score, _ \u001b[39m=\u001b[39m minimax(board \u001b[39m=\u001b[39;49m board,player_piece \u001b[39m=\u001b[39;49m player_piece, depth \u001b[39m=\u001b[39;49m depth \u001b[39m-\u001b[39;49m \u001b[39m1\u001b[39;49m, alpha \u001b[39m=\u001b[39;49m alpha, beta \u001b[39m=\u001b[39;49m beta, is_maximizing_player \u001b[39m=\u001b[39;49m \u001b[39mFalse\u001b[39;49;00m)\n\u001b[0;32m     22\u001b[0m     \u001b[39mif\u001b[39;00m score \u001b[39m>\u001b[39m value:\n\u001b[0;32m     23\u001b[0m         value \u001b[39m=\u001b[39m score\n",
      "File \u001b[1;32mh:\\Sharif\\term6\\AI\\AI-Spring-2023\\HW2\\CE417_2_Spring23_HW2\\Practical Assignment 2\\Q1\\alpha_beta.py:34\u001b[0m, in \u001b[0;36mminimax\u001b[1;34m(board, player_piece, depth, is_maximizing_player, alpha, beta)\u001b[0m\n\u001b[0;32m     32\u001b[0m best_move \u001b[39m=\u001b[39m \u001b[39mNone\u001b[39;00m\n\u001b[0;32m     33\u001b[0m \u001b[39mfor\u001b[39;00m move \u001b[39min\u001b[39;00m BoardUtility\u001b[39m.\u001b[39mget_valid_locations(game_board\u001b[39m=\u001b[39mboard):\n\u001b[1;32m---> 34\u001b[0m     BoardUtility\u001b[39m.\u001b[39;49mmake_move(game_board\u001b[39m=\u001b[39;49mboard, row \u001b[39m=\u001b[39;49m move[\u001b[39m0\u001b[39;49m],col \u001b[39m=\u001b[39;49m move[\u001b[39m1\u001b[39;49m],player \u001b[39m=\u001b[39;49m player_piece)\n\u001b[0;32m     35\u001b[0m     score, _ \u001b[39m=\u001b[39m minimax(board \u001b[39m=\u001b[39m board, player_piece \u001b[39m=\u001b[39m player_piece, depth \u001b[39m=\u001b[39m depth \u001b[39m-\u001b[39m \u001b[39m1\u001b[39m, alpha \u001b[39m=\u001b[39m alpha, beta \u001b[39m=\u001b[39m beta,is_maximizing_player \u001b[39m=\u001b[39m \u001b[39mTrue\u001b[39;00m)\n\u001b[0;32m     36\u001b[0m     \u001b[39mif\u001b[39;00m score \u001b[39m<\u001b[39m value:\n",
      "File \u001b[1;32mh:\\Sharif\\term6\\AI\\AI-Spring-2023\\HW2\\CE417_2_Spring23_HW2\\Practical Assignment 2\\Q1\\Board.py:99\u001b[0m, in \u001b[0;36mBoardUtility.make_move\u001b[1;34m(game_board, row, col, player)\u001b[0m\n\u001b[0;32m     92\u001b[0m \u001b[39m@staticmethod\u001b[39m\n\u001b[0;32m     93\u001b[0m \u001b[39mdef\u001b[39;00m \u001b[39mmake_move\u001b[39m(game_board, row, col, player):\n\u001b[0;32m     94\u001b[0m \u001b[39m    \u001b[39m\u001b[39m\"\"\"\u001b[39;00m\n\u001b[0;32m     95\u001b[0m \u001b[39m    make a new move on the board\u001b[39;00m\n\u001b[0;32m     96\u001b[0m \u001b[39m    row & col: row and column of the new move\u001b[39;00m\n\u001b[0;32m     97\u001b[0m \u001b[39m    piece: 1 for first player. 2 for second player\u001b[39;00m\n\u001b[0;32m     98\u001b[0m \u001b[39m    \"\"\"\u001b[39;00m\n\u001b[1;32m---> 99\u001b[0m     \u001b[39massert\u001b[39;00m game_board[row][col] \u001b[39m==\u001b[39m \u001b[39m0\u001b[39m\n\u001b[0;32m    100\u001b[0m     game_board[row][col] \u001b[39m=\u001b[39m player\n",
      "\u001b[1;31mAssertionError\u001b[0m: "
     ]
    }
   ],
   "source": [
    "def get_game_result(player1, player2, num_game):\n",
    "    win, lose, draw = 0, 0, 0\n",
    "    for i in range(num_game):\n",
    "        game = XO(player1, player2)\n",
    "        result = game.play_game_with_gui()\n",
    "        if result == 1:\n",
    "            win += 1\n",
    "        elif result == 2:\n",
    "            lose += 1\n",
    "        else:\n",
    "            draw += 1\n",
    "    return win, lose, draw\n",
    "\n",
    "\n",
    "def mark():\n",
    "    player1 = MiniMaxPlayer(1, depth=4)\n",
    "    player2 = RandomPlayer(2)\n",
    "    player3 = MiniMaxProbPlayer(2, depth=3, prob_stochastic=0.8)\n",
    "    win1, lose1, draw1 = get_game_result(player1, player2, 40)\n",
    "    win2, lose2, draw2 = get_game_result(player1, player3, 10)\n",
    "    print(f'minimax player vs random player win={win1}, lose={lose1}, draw={draw1}')\n",
    "    print(f'minimax player vs minimax prob player win={win2}, lose={lose2}, draw={draw2}')\n",
    "    if win1 + win2 >= 45 and lose1 + lose2 == 0:\n",
    "        print('you will earn the full mark from random player vs minimax')\n",
    "\n",
    "\n",
    "mark()"
   ]
  }
 ],
 "metadata": {
  "kernelspec": {
   "display_name": "Python 3.9.2 64-bit",
   "language": "python",
   "name": "python3"
  },
  "language_info": {
   "codemirror_mode": {
    "name": "ipython",
    "version": 3
   },
   "file_extension": ".py",
   "mimetype": "text/x-python",
   "name": "python",
   "nbconvert_exporter": "python",
   "pygments_lexer": "ipython3",
   "version": "3.9.2"
  },
  "vscode": {
   "interpreter": {
    "hash": "570e6187be653a659d6f952c573b248103619920d93763c2755e788ce8abaa28"
   }
  }
 },
 "nbformat": 4,
 "nbformat_minor": 4
}
